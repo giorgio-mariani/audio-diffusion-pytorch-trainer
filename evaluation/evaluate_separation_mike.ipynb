{
 "cells": [
  {
   "cell_type": "code",
   "execution_count": 1,
   "id": "fe75f5a2-05f3-49cf-b5fd-40e04734476b",
   "metadata": {},
   "outputs": [
    {
     "name": "stdout",
     "output_type": "stream",
     "text": [
      "/home/giorgio_mariani/Documents/audio-diffusion-pytorch-trainer\n"
     ]
    }
   ],
   "source": [
    "%cd '/home/giorgio_mariani/Documents/audio-diffusion-pytorch-trainer/'"
   ]
  },
  {
   "cell_type": "code",
   "execution_count": 11,
   "id": "61207899-b828-4267-ba5d-525cdafc85c9",
   "metadata": {},
   "outputs": [
    {
     "data": {
      "text/plain": [
       "'/home/giorgio_mariani/Documents/audio-diffusion-pytorch-trainer'"
      ]
     },
     "execution_count": 11,
     "metadata": {},
     "output_type": "execute_result"
    }
   ],
   "source": [
    "pwd"
   ]
  },
  {
   "cell_type": "code",
   "execution_count": 2,
   "id": "378974fc-d1f2-41ea-8fa0-a0d9b2403808",
   "metadata": {},
   "outputs": [],
   "source": [
    "from collections import defaultdict\n",
    "import json\n",
    "import os\n",
    "from pathlib import Path\n",
    "from pathlib import Path\n",
    "import re\n",
    "from typing import List, Mapping, Optional, Tuple, Union\n",
    "import main.module_base\n",
    "from script.misc import hparams\n",
    "import math\n",
    "import numpy as np\n",
    "#import museval\n",
    "import pandas as pd\n",
    "import torch\n",
    "import torchaudio\n",
    "import torchmetrics.functional.audio as tma\n",
    "#from evaluation.evaluate_separation import evaluate_data\n",
    "from tqdm import tqdm\n",
    "from torchaudio.transforms import Resample\n",
    "\n",
    "from main.dataset import is_silent\n",
    "from main.likelihood import log_likelihood_song"
   ]
  },
  {
   "cell_type": "code",
   "execution_count": 3,
   "id": "15d61069-c483-4121-80f3-77c645b145e4",
   "metadata": {},
   "outputs": [],
   "source": [
    "def sdr(preds: torch.Tensor, target: torch.Tensor, eps: float = 1e-5) -> torch.Tensor:\n",
    "    s_target = torch.norm(target, dim=-1)**2 + eps\n",
    "    s_error = torch.norm(target - preds, dim=-1)**2 + eps\n",
    "    return 10 * torch.log10(s_target/s_error)\n"
   ]
  },
  {
   "cell_type": "code",
   "execution_count": 4,
   "id": "de375afc-3ab2-4e7e-a6b4-72162870b0c6",
   "metadata": {},
   "outputs": [],
   "source": [
    "def sisnr(preds: torch.Tensor, target: torch.Tensor, eps: float = 1e-8) -> torch.Tensor:\n",
    "    alpha = (torch.sum(preds * target, dim=-1, keepdim=True) + eps) / (torch.sum(target**2, dim=-1, keepdim=True) + eps)\n",
    "    target_scaled = alpha * target\n",
    "    noise = target_scaled - preds\n",
    "    s_target = torch.sum(target_scaled**2, dim=-1) + eps\n",
    "    s_error = torch.sum(noise**2, dim=-1) + eps\n",
    "    return 10 * torch.log10(s_target / s_error)"
   ]
  },
  {
   "cell_type": "code",
   "execution_count": 5,
   "id": "7cab85fa-d338-438e-826c-7fdea9b569af",
   "metadata": {},
   "outputs": [],
   "source": [
    "def get_rms(source_waveforms):\n",
    "  \"\"\"Return shape (source,) weights for signals that are nonzero.\"\"\"\n",
    "  return torch.sqrt(torch.mean(source_waveforms ** 2, dim=-1))\n",
    "  #return source_norms <= 1e-8"
   ]
  },
  {
   "cell_type": "code",
   "execution_count": 6,
   "id": "a376dede-bf0f-490a-afc0-10b6a9fb5f05",
   "metadata": {},
   "outputs": [],
   "source": [
    "def load_chunks(chunk_folder: Path) -> Tuple[Mapping[str, torch.Tensor], Mapping[str, torch.Tensor], int]:\n",
    "    original_tracks_and_rate = {ori.name.split(\".\")[0][3:]: torchaudio.load(ori) for ori in sorted(list(chunk_folder.glob(\"ori*.wav\")))}\n",
    "    separated_tracks_and_rate = {sep.name.split(\".\")[0][3:]: torchaudio.load(sep) for sep in sorted(list(chunk_folder.glob(\"sep*.wav\")))}\n",
    "    assert tuple(original_tracks_and_rate.keys()) == tuple(separated_tracks_and_rate.keys())\n",
    "\n",
    "    original_tracks = {k:t for k, (t,_) in original_tracks_and_rate.items()}\n",
    "    sample_rates_ori = [s for (_,s) in original_tracks_and_rate.values()]\n",
    "\n",
    "    separated_tracks = {k:t for k, (t,_) in separated_tracks_and_rate.items()}\n",
    "    sample_rates_sep = [s for (_,s) in separated_tracks_and_rate.values()]\n",
    "\n",
    "    assert len({*sample_rates_ori, *sample_rates_sep}) == 1, print({*sample_rates_ori, *sample_rates_sep})\n",
    "    assert len(original_tracks) == len(separated_tracks)\n",
    "    sr = sample_rates_ori[0]\n",
    "\n",
    "    return original_tracks, separated_tracks, sr"
   ]
  },
  {
   "cell_type": "code",
   "execution_count": 7,
   "id": "be58240c-31ff-4a34-90e7-bbfde7bf4abe",
   "metadata": {},
   "outputs": [],
   "source": [
    "def evaluate_tracks_chunks_mike(separation_path: Union[str, Path], chunk_prop: int, \n",
    "                           orig_sr: int = 44100, resample_sr: Optional[int] = None, \n",
    "                           filter_single_source: bool = True, eps: float = 10-8):\n",
    "\n",
    "    separation_folder = Path(separation_path)\n",
    "    assert separation_folder.exists(), separation_folder\n",
    "    assert (separation_folder.parent / \"chunk_data.json\").exists(), separation_folder\n",
    "\n",
    "    with open(separation_folder.parent / \"chunk_data.json\") as f:\n",
    "        chunk_data = json.load(f)\n",
    "        \n",
    "    def load_model(path):\n",
    "        model = main.module_base.Model(**{**hparams, \"in_channels\": 4})\n",
    "        model.load_state_dict(torch.load(path)[\"state_dict\"])\n",
    "        model.to(\"cuda:0\")\n",
    "        return model\n",
    "    \n",
    "    ckpts_path = Path(\"/home/irene/Documents/audio-diffusion-pytorch-trainer/logs/ckpts\")\n",
    "    model = load_model(ckpts_path / \"avid-darkness-164_epoch=419-valid_loss=0.015.ckpt\")\n",
    "    denoise_fn = model.model.diffusion.denoise_fn\n",
    "    \n",
    "    resample_fn = Resample(orig_freq=orig_sr, new_freq=resample_sr) if resample_sr is not None else lambda x: x\n",
    "\n",
    "    track_to_chunks = defaultdict(list)\n",
    "    for chunk_data in chunk_data:\n",
    "        track = chunk_data[\"track\"]\n",
    "        chunk_idx = chunk_data[\"chunk_index\"]\n",
    "        start_sample = chunk_data[\"start_chunk_sample\"]\n",
    "        track_to_chunks[track].append( (start_sample, chunk_idx) )\n",
    "\n",
    "    # reorder chunks into ascending order and compute sdr\n",
    "    results = defaultdict(list)\n",
    "    for track, chunks in tqdm(track_to_chunks.items()):\n",
    "        sorted_chunks = sorted(chunks)\n",
    "\n",
    "        separated_wavs, original_wavs = defaultdict(list), defaultdict(list)\n",
    "        for _, chunk_idx in sorted_chunks:\n",
    "                        \n",
    "            chunk_folder = separation_folder / str(chunk_idx)\n",
    "            original_tracks, separated_tracks, sr = load_chunks(chunk_folder)\n",
    "           \n",
    "            assert sr == orig_sr, f\"chunk [{chunk_folder.name}]: expected freq={orig_sr}, track freq={sr}\"\n",
    "            \n",
    "            \n",
    "        mixture = sum([owav for owav in original_tracks.values()])\n",
    "        \n",
    "        chunk_size = int(separated_tracks[\"1\"].shape[-1] * chunk_prop)\n",
    "        \n",
    "        for k in separated_tracks:\n",
    "            o = original_tracks[k]\n",
    "            \n",
    "            s = separated_tracks[k]\n",
    "            \n",
    "            m = mixture\n",
    "            \n",
    "            \n",
    "        for i in range(mixture.shape[-1] // chunk_size):\n",
    "            \n",
    "            num_silent_signals = 0\n",
    "            for k in separated_tracks:\n",
    "                \n",
    "                o = original_tracks[k][:,i*chunk_size:(i+1)*chunk_size]\n",
    "               \n",
    "                if is_silent(o) and filter_single_source:\n",
    "                    num_silent_signals += 1\n",
    "            if num_silent_signals > 3:\n",
    "                continue\n",
    "            else:\n",
    "                for k in separated_tracks:\n",
    "                    o = original_tracks[k][:,i*chunk_size:(i+1)*chunk_size]\n",
    "                    s = separated_tracks[k][:,i*chunk_size: (i+1)*chunk_size]\n",
    "                    m = mixture[:,i*chunk_size: (i+1)*chunk_size]\n",
    "                    results[k].append((sisnr(s, o, eps) - sisnr(m, o, eps)).item())\n",
    "                    \n",
    "    return pd.DataFrame(results)"
   ]
  },
  {
   "cell_type": "code",
   "execution_count": 18,
   "id": "698d794c-5145-441f-aee2-165ae0c0c132",
   "metadata": {},
   "outputs": [],
   "source": [
    "def evaluate_tracks_chunks_mike_with_overlap(separation_path: Union[str, Path],\n",
    "                           orig_sr: int = 44100, resample_sr: Optional[int] = None, \n",
    "                           filter_single_source: bool = True, eps: float = 10-8, chunk_duration: float = 4.0, overlap_duration: float = 2.0):\n",
    "\n",
    "    separation_folder = Path(separation_path)\n",
    "    assert separation_folder.exists(), separation_folder\n",
    "    assert (separation_folder.parent / \"chunk_data.json\").exists(), separation_folder\n",
    "\n",
    "    with open(separation_folder.parent / \"chunk_data.json\") as f:\n",
    "        chunk_data = json.load(f) \n",
    "        \n",
    "    def load_model(path):\n",
    "        model = main.module_base.Model(**{**hparams, \"in_channels\": 4})\n",
    "        model.load_state_dict(torch.load(path)[\"state_dict\"])\n",
    "        model.to(\"cuda:0\")\n",
    "        return model\n",
    "    \n",
    "    ckpts_path = Path(\"/home/irene/Documents/audio-diffusion-pytorch-trainer/logs/ckpts\")\n",
    "    model = load_model(ckpts_path / \"avid-darkness-164_epoch=419-valid_loss=0.015.ckpt\")\n",
    "    denoise_fn = model.model.diffusion.denoise_fn\n",
    "    \n",
    "    resample_fn = Resample(orig_freq=orig_sr, new_freq=resample_sr) if resample_sr is not None else lambda x: x\n",
    "\n",
    "    track_to_chunks = defaultdict(list)\n",
    "    for chunk_data in chunk_data:\n",
    "        track = chunk_data[\"track\"]\n",
    "        chunk_idx = chunk_data[\"chunk_index\"]\n",
    "        start_sample = chunk_data[\"start_chunk_sample\"]\n",
    "        track_to_chunks[track].append( (start_sample, chunk_idx) )\n",
    "\n",
    "    # reorder chunks into ascending order and compute sdr\n",
    "    results = defaultdict(list)\n",
    "    for track, chunks in tqdm(track_to_chunks.items()):\n",
    "        sorted_chunks = sorted(chunks)\n",
    "\n",
    "        separated_wavs, original_wavs = defaultdict(list), defaultdict(list)\n",
    "        for _, chunk_idx in sorted_chunks:\n",
    "                        \n",
    "            chunk_folder = separation_folder / str(chunk_idx)\n",
    "            original_tracks, separated_tracks, sr = load_chunks(chunk_folder)\n",
    "            #print(separated_tracks['1'].shape)\n",
    "           \n",
    "            assert sr == orig_sr, f\"chunk [{chunk_folder.name}]: expected freq={orig_sr}, track freq={sr}\"\n",
    "            \n",
    "            \n",
    "        mixture = sum([owav for owav in original_tracks.values()])\n",
    "        \n",
    "        chunk_samples = chunk_duration * orig_sr\n",
    "        overlap_samples = overlap_duration * orig_sr\n",
    "        \n",
    "        chunk_samples = int(chunk_duration * orig_sr)\n",
    "        \n",
    "        overlap_samples = int(overlap_duration * orig_sr)\n",
    "\n",
    "        # Calculate the step size between consecutive chunks\n",
    "        step_size = chunk_samples - overlap_samples\n",
    "\n",
    "        # Determine the number of chunks based on step_size\n",
    "        num_chunks = math.ceil((mixture.shape[-1] - overlap_samples) / step_size)\n",
    "        #print(mixture.shape)\n",
    "        \n",
    "\n",
    "        for i in range(num_chunks):\n",
    "            start_sample = i * step_size\n",
    "            end_sample = start_sample + chunk_samples\n",
    "\n",
    "            num_silent_signals = 0\n",
    "            for k in separated_tracks:\n",
    "                o = original_tracks[k][:,start_sample:end_sample]\n",
    "                #print(o.shape)\n",
    "                if is_silent(o) and filter_single_source:\n",
    "                    num_silent_signals += 1\n",
    "            if num_silent_signals > 3:\n",
    "                continue\n",
    "            else:\n",
    "                for k in separated_tracks:\n",
    "                    o = original_tracks[k][:,start_sample:end_sample]\n",
    "                    s = separated_tracks[k][:,start_sample:end_sample]\n",
    "                    m = mixture[:,start_sample:end_sample]\n",
    "                    results[k].append((sisnr(s, o, eps) - sisnr(m, o, eps)).item())\n",
    "\n",
    "\n",
    "    return pd.DataFrame(results)"
   ]
  },
  {
   "cell_type": "code",
   "execution_count": 8,
   "id": "01199e30-9646-472e-8531-9314ee9af36a",
   "metadata": {},
   "outputs": [
    {
     "name": "stderr",
     "output_type": "stream",
     "text": [
      "100%|████████████████████████████████████████████████████████████████████████████████████████████████████████████████████████████████████████| 71/71 [00:01<00:00, 46.45it/s]\n"
     ]
    },
    {
     "data": {
      "text/plain": [
       "(213, 4)"
      ]
     },
     "execution_count": 8,
     "metadata": {},
     "output_type": "execute_result"
    }
   ],
   "source": [
    "results = evaluate_tracks_chunks_mike(\"separations/debug/sep_round_0\", chunk_prop=1/3, orig_sr=22050, eps=1e-8)\n",
    "results.shape"
   ]
  },
  {
   "cell_type": "code",
   "execution_count": 29,
   "id": "c1ffc01a-c2d1-4e37-a059-f4fb69841b43",
   "metadata": {},
   "outputs": [
    {
     "name": "stderr",
     "output_type": "stream",
     "text": [
      "100%|███████████████████████████████████████████| 71/71 [00:01<00:00, 66.26it/s]\n"
     ]
    },
    {
     "data": {
      "text/plain": [
       "(355, 4)"
      ]
     },
     "execution_count": 29,
     "metadata": {},
     "output_type": "execute_result"
    }
   ],
   "source": [
    "results_wo = evaluate_tracks_chunks_mike_with_overlap(\"separations/debug/sep_round_0\",chunk_duration=4.0, overlap_duration=2.0 , orig_sr=22050, eps=1e-8)\n",
    "results_wo.shape"
   ]
  },
  {
   "cell_type": "code",
   "execution_count": 30,
   "id": "d1baebc9-b7cf-4b4d-b661-3e1598dd39ff",
   "metadata": {},
   "outputs": [
    {
     "name": "stdout",
     "output_type": "stream",
     "text": [
      "Mean results:\n",
      "\n",
      "Mean values by column name:\n",
      "Column 1: 15.575636171958816\n",
      "Column 2: 16.88300941919497\n",
      "Column 3: 13.593393392965828\n",
      "Column 4: 14.085952395564513\n",
      "Mean of means: 15.034497844921031\n"
     ]
    }
   ],
   "source": [
    "mean_results = results.mean()\n",
    "print(\"Mean results:\")\n",
    "#print(mean_results)\n",
    "\n",
    "# Access mean values by column name\n",
    "mean_col1 = mean_results['1']\n",
    "mean_col2 = mean_results['2']\n",
    "mean_col3 = mean_results['3']\n",
    "mean_col4 = mean_results['4']\n",
    "\n",
    "print(\"\\nMean values by column name:\")\n",
    "print(\"Column 1:\", mean_col1)\n",
    "print(\"Column 2:\", mean_col2)\n",
    "print(\"Column 3:\", mean_col3)\n",
    "print(\"Column 4:\", mean_col4)\n",
    "\n",
    "mean_of_means = mean_results.mean()\n",
    "\n",
    "print(\"Mean of means:\", mean_of_means)"
   ]
  },
  {
   "cell_type": "code",
   "execution_count": 31,
   "id": "bec2e73b-b7bd-4426-8622-89871be66ee3",
   "metadata": {},
   "outputs": [
    {
     "name": "stdout",
     "output_type": "stream",
     "text": [
      "Mean results:\n",
      "\n",
      "Mean values by column name:\n",
      "Column 1: 15.875413102163396\n",
      "Column 2: 16.880386715203944\n",
      "Column 3: 13.490192078200865\n",
      "Column 4: 14.140144774947368\n",
      "Mean of means: 15.096534167628892\n"
     ]
    }
   ],
   "source": [
    "mean_results = results_wo.mean()\n",
    "print(\"Mean results:\")\n",
    "#print(mean_results)\n",
    "\n",
    "# Access mean values by column name\n",
    "mean_col1 = mean_results['1']\n",
    "mean_col2 = mean_results['2']\n",
    "mean_col3 = mean_results['3']\n",
    "mean_col4 = mean_results['4']\n",
    "\n",
    "print(\"\\nMean values by column name:\")\n",
    "print(\"Column 1:\", mean_col1)\n",
    "print(\"Column 2:\", mean_col2)\n",
    "print(\"Column 3:\", mean_col3)\n",
    "print(\"Column 4:\", mean_col4)\n",
    "\n",
    "mean_of_means = mean_results.mean()\n",
    "\n",
    "print(\"Mean of means:\", mean_of_means)"
   ]
  },
  {
   "cell_type": "code",
   "execution_count": null,
   "id": "dce511b8-c89d-4c68-9acc-3f644f8e8667",
   "metadata": {},
   "outputs": [],
   "source": []
  }
 ],
 "metadata": {
  "kernelspec": {
   "display_name": "Python 3 (ipykernel)",
   "language": "python",
   "name": "python3"
  },
  "language_info": {
   "codemirror_mode": {
    "name": "ipython",
    "version": 3
   },
   "file_extension": ".py",
   "mimetype": "text/x-python",
   "name": "python",
   "nbconvert_exporter": "python",
   "pygments_lexer": "ipython3",
   "version": "3.9.13"
  }
 },
 "nbformat": 4,
 "nbformat_minor": 5
}
