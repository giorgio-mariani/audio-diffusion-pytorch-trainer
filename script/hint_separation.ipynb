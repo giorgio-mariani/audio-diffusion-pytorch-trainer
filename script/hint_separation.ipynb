{
 "cells": [
  {
   "cell_type": "code",
   "execution_count": 2,
   "metadata": {},
   "outputs": [
    {
     "name": "stdout",
     "output_type": "stream",
     "text": [
      "The autoreload extension is already loaded. To reload it, use:\n",
      "  %reload_ext autoreload\n"
     ]
    }
   ],
   "source": [
    "import torchaudio\n",
    "import math\n",
    "import sys\n",
    "sys.path.append(\"/home/irene/Documents/audio-diffusion-pytorch-trainer\")\n",
    "\n",
    "from main.separation import ContextualSeparator\n",
    "from pathlib import Path\n",
    "from audio_diffusion_pytorch import KarrasSchedule\n",
    "import torch\n",
    "from script.misc import hparams\n",
    "import main.module_base\n",
    "from main.dataset import PitchShift\n",
    "from evaluation.evaluate_separation import si_snr\n",
    "from IPython.display import Audio\n",
    "device = torch.device(\"cuda\")\n",
    "ROOT_PATH = Path(\".\")\n",
    "%load_ext autoreload\n",
    "%autoreload 2\n",
    "\n",
    "sampling_rate = 22050\n",
    "\n",
    "# @markdown Generation length in seconds (will be rounded to be a power of 2 of sample_rate*length)\n",
    "length = 10\n",
    "length_samples = 2**math.ceil(math.log2(length * sampling_rate))\n",
    "\n",
    "# @markdown Number of samples to generate\n",
    "num_samples = 1\n",
    "\n",
    "# @markdown Number of diffusion steps (higher tends to be better but takes longer to generate)\n",
    "num_steps = 150\n",
    "num_stems = 4\n",
    "\n",
    "s1, sr1 = torchaudio.load('/home/irene/Documents/audio-diffusion-pytorch-trainer/data/Slack/test/bass/Track01881.wav')\n",
    "s2, sr2 = torchaudio.load('/home/irene/Documents/audio-diffusion-pytorch-trainer/data/Slack/test/drums/Track01881.wav')\n",
    "s3, sr3 = torchaudio.load('/home/irene/Documents/audio-diffusion-pytorch-trainer/data/Slack/test/guitar/Track01881.wav')\n",
    "s4, sr4 = torchaudio.load('/home/irene/Documents/audio-diffusion-pytorch-trainer/data/Slack/test/piano/Track01881.wav')\n",
    "\n",
    "s1 = torchaudio.functional.resample(s1, orig_freq=sr1, new_freq=sampling_rate)\n",
    "s2 = torchaudio.functional.resample(s2, orig_freq=sr2, new_freq=sampling_rate)\n",
    "s3 = torchaudio.functional.resample(s3, orig_freq=sr3, new_freq=sampling_rate)\n",
    "s4 = torchaudio.functional.resample(s4, orig_freq=sr4, new_freq=sampling_rate)\n",
    "\n",
    "#display(Audio(s1, rate = sampling_rate))\n",
    "#display(Audio(s2, rate = sampling_rate))\n",
    "\n",
    "start_sample = 100 * sampling_rate\n",
    "s1 = s1.reshape(1, 1, -1)[:, :, start_sample:start_sample + length_samples]\n",
    "s2 = s2.reshape(1, 1, -1)[:, :, start_sample:start_sample + length_samples]\n",
    "s3 = s3.reshape(1, 1, -1)[:, :, start_sample:start_sample + length_samples]\n",
    "s4 = s4.reshape(1, 1, -1)[:, :, start_sample:start_sample + length_samples]\n",
    "m = s1+s2+s3+s4\n",
    "\n",
    "smin = 1e-4\n",
    "smax = 1.0\n",
    "rho = 7.0\n",
    "sigma_schedule=KarrasSchedule(sigma_min=smin, sigma_max=smax, rho=rho)\n",
    "\n",
    "s1_shifted = torchaudio.functional.pitch_shift(\n",
    "                waveform=s1,\n",
    "                sample_rate=sampling_rate,\n",
    "                n_steps=1,\n",
    "            )\n",
    "\n",
    "def load_model(path):\n",
    "  model = main.module_base.Model(**{**hparams, \"in_channels\": 4})\n",
    "  model.load_state_dict(torch.load(path)[\"state_dict\"])\n",
    "  model.to(device);\n",
    "  return model\n",
    "\n",
    "model = load_model(\"/home/irene/Documents/audio-diffusion-pytorch-trainer/logs/ckpts/avid-darkness-164_epoch=419-valid_loss=0.015.ckpt\")\n",
    "separator = ContextualSeparator(model=model, stems=[\"bass\", \"drums\", \"guitar\", \"piano\"], sigma_schedule=sigma_schedule)\n"
   ]
  },
  {
   "cell_type": "code",
   "execution_count": 25,
   "metadata": {},
   "outputs": [
    {
     "name": "stdout",
     "output_type": "stream",
     "text": [
      "-29.84492301940918\n",
      "15.887845993041992\n",
      "0.6800469756126404\n",
      "7.957810401916504\n"
     ]
    }
   ],
   "source": [
    "separations_hint = separator.separate_with_hint(\n",
    "    mixture=m,\n",
    "    source_with_hint=inpaint,\n",
    "    mask=inpaint_mask,\n",
    "    num_steps=num_steps,\n",
    ")\n",
    "\n",
    "#gen_mix = separations[\"bass\"] + separations[\"drums\"] + separations[\"guitar\"] + separations[\"piano\"]\n",
    "print(si_snr(separations_hint[\"bass\"], s1))\n",
    "print(si_snr(separations_hint[\"drums\"], s2))\n",
    "print(si_snr(separations_hint[\"guitar\"], s3))\n",
    "print(si_snr(separations_hint[\"piano\"], s4))"
   ]
  },
  {
   "cell_type": "code",
   "execution_count": 22,
   "metadata": {},
   "outputs": [],
   "source": [
    "separations = separator.separate(\n",
    "    mixture=m,\n",
    "    num_steps=num_steps\n",
    ")\n",
    "#gen_mix = separations[\"bass\"] + separations[\"drums\"] + separations[\"guitar\"] + separations[\"piano\"]\n",
    "print(si_snr(separations[\"bass\"].unsqueeze(0), s1))\n",
    "print(si_snr(separations[\"drums\"].unsqueeze(0), s2))\n",
    "print(si_snr(separations[\"guitar\"].unsqueeze(0), s3))\n",
    "print(si_snr(separations[\"piano\"].unsqueeze(0), s4))\n",
    "#display(Audio(separations[\"bass\"].squeeze().squeeze().cpu().detach(), rate = sampling_rate))"
   ]
  },
  {
   "cell_type": "code",
   "execution_count": 4,
   "metadata": {},
   "outputs": [],
   "source": [
    "gibbs_step = 10\n",
    "sources = torch.cat([s1, s2, s3, s4], axis=1).to(device)\n",
    "def generate_mask_and_sources(fixed_sources_idx=[]):\n",
    "    mobile_sources_idx = list(set([0,1,2,3]) - set(fixed_sources_idx))\n",
    "    mobile_sources_idx.sort()\n",
    "    inpaint                = torch.randn(num_samples, num_stems, length_samples).to(device)\n",
    "    inpaint[:, fixed_sources_idx, :]       = sources[:, fixed_sources_idx, :]\n",
    "    inpaint_mask           = torch.ones_like(inpaint)\n",
    "    inpaint_mask[:, mobile_sources_idx, :] = 0.\n",
    "    return inpaint, inpaint_mask"
   ]
  },
  {
   "cell_type": "code",
   "execution_count": 28,
   "metadata": {},
   "outputs": [
    {
     "data": {
      "text/plain": [
       "6.896551724137931"
      ]
     },
     "metadata": {},
     "output_type": "display_data"
    }
   ],
   "source": [
    "inpaint, inpaint_mask = generate_mask_and_sources()\n",
    "\n",
    "p_min = (1 - 0.95) * (10 - 1) / (10 - 0.95*10 + 0.95)\n",
    "p_max = p_min / (1 - 0.95)\n",
    "def schedule_prob(t, T, alpha=0.95, p_min=p_min, p_max=p_max):\n",
    "    p_t = max(p_min, p_max - (t - 1) * (p_max - p_min) / (alpha * (T - 1)))\n",
    "    return p_t\n",
    "\n",
    "display(schedule_prob(0, 10.))"
   ]
  },
  {
   "cell_type": "code",
   "execution_count": null,
   "metadata": {},
   "outputs": [],
   "source": [
    "for i in range(gibbs_steps):\n",
    "    separations_hint = separator.separate_with_hint(\n",
    "        mixture=m,\n",
    "        source_with_hint=inpaint,\n",
    "        mask=inpaint_mask,\n",
    "        num_steps=num_steps,\n",
    "    )\n",
    "    p = schedule_prob(i, gibbs_steps, )\n",
    "    fixed_sources_idx = tor\n",
    "    inpaint, inpaint_mask = generate_mask_and_sources()\n",
    "    "
   ]
  }
 ],
 "metadata": {
  "kernelspec": {
   "display_name": "Python (audio-diffusion-trainer)",
   "language": "python",
   "name": "audio-diffusion-trainer"
  },
  "language_info": {
   "codemirror_mode": {
    "name": "ipython",
    "version": 3
   },
   "file_extension": ".py",
   "mimetype": "text/x-python",
   "name": "python",
   "nbconvert_exporter": "python",
   "pygments_lexer": "ipython3",
   "version": "3.9.13"
  },
  "vscode": {
   "interpreter": {
    "hash": "767d51c1340bd893661ea55ea3124f6de3c7a262a8b4abca0554b478b1e2ff90"
   }
  }
 },
 "nbformat": 4,
 "nbformat_minor": 4
}
