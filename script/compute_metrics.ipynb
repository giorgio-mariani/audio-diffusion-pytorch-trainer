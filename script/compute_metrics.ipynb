{
 "cells": [
  {
   "cell_type": "code",
   "execution_count": 1,
   "id": "93f64c09-1a94-4d4e-8dcb-27e4192f6463",
   "metadata": {
    "pycharm": {
     "name": "#%%\n"
    }
   },
   "outputs": [],
   "source": [
    "import sys\n",
    "from pathlib import Path\n",
    "import torch\n",
    "import matplotlib.pyplot as plt\n",
    "from IPython.display import Audio\n",
    "\n",
    "\n",
    "ROOT_PATH=Path(\"..\").resolve().absolute()\n",
    "DEVICE=torch.device(\"cpu\")#\n",
    "sys.path.append(str(ROOT_PATH))\n",
    "\n",
    "%load_ext autoreload\n",
    "%autoreload 2\n",
    "from main.evaluate_separation import evaluate_data\n"
   ]
  },
  {
   "cell_type": "code",
   "execution_count": 3,
   "id": "cff84c69-fcfe-4f4a-90d8-875722195b21",
   "metadata": {},
   "outputs": [
    {
     "name": "stdout",
     "output_type": "stream",
     "text": [
      "\n",
      "---------------------------------\n",
      "sigma-min=0.0001 sigma-max=20.0, rho=7.0, num-steps=75\n",
      "\n",
      "SI-SNR 1:  4.020451545715332\n",
      "SI-SNR 2:  1.7643216848373413\n",
      "SI-SNRi 1:  1.2339680194854736\n",
      "SI-SNRi 2:  4.076409935951233\n",
      "SDR mean:  3.110156536102295\n",
      "\n",
      "---------------------------------\n",
      "sigma-min=0.0001 sigma-max=20.0, rho=7.0, num-steps=100\n",
      "\n",
      "SI-SNR 1:  4.122089385986328\n",
      "SI-SNR 2:  2.251411199569702\n",
      "SI-SNRi 1:  1.3356058597564697\n",
      "SI-SNRi 2:  4.563499450683594\n",
      "SDR mean:  3.4070937633514404\n",
      "\n",
      "---------------------------------\n",
      "sigma-min=0.0001 sigma-max=20.0, rho=7.0, num-steps=500\n",
      "\n",
      "SI-SNR 1:  4.944915294647217\n",
      "SI-SNR 2:  1.9749281406402588\n",
      "SI-SNRi 1:  2.1584317684173584\n",
      "SI-SNRi 2:  4.28701639175415\n",
      "SDR mean:  3.6377131938934326\n",
      "\n",
      "---------------------------------\n",
      "sigma-min=0.0001 sigma-max=20.0, rho=7.0, num-steps=250\n",
      "\n",
      "SI-SNR 1:  4.277606010437012\n",
      "SI-SNR 2:  2.3484227657318115\n",
      "SI-SNRi 1:  1.4911224842071533\n",
      "SI-SNRi 2:  4.660511016845703\n",
      "SDR mean:  3.4997260570526123\n",
      "\n",
      "---------------------------------\n",
      "sigma-min=0.0001 sigma-max=20.0, rho=7.0, num-steps=25\n",
      "\n",
      "SI-SNR 1:  2.4303786754608154\n",
      "SI-SNR 2:  -0.018628258258104324\n",
      "SI-SNRi 1:  -0.35610485076904297\n",
      "SI-SNRi 2:  2.2934599928557873\n",
      "SDR mean:  1.449340581893921\n",
      "\n",
      "---------------------------------\n",
      "sigma-min=0.0001 sigma-max=20.0, rho=7.0, num-steps=50\n",
      "\n",
      "SI-SNR 1:  3.9033870697021484\n",
      "SI-SNR 2:  1.7825250625610352\n",
      "SI-SNRi 1:  1.11690354347229\n",
      "SI-SNRi 2:  4.094613313674927\n",
      "SDR mean:  3.0368006229400635\n"
     ]
    }
   ],
   "source": [
    "for path in Path(\"../grid_search_steps/\").glob(\"*\"):\n",
    "    print(\"\\n---------------------------------\")\n",
    "    smin, smax, rho, num_steps = path.name.split(\"-\")\n",
    "    print(f\"sigma-min={smin} sigma-max={smax}, rho={rho}, num-steps={num_steps}\\n\")\n",
    "    evaluate_data(path)"
   ]
  },
  {
   "cell_type": "code",
   "execution_count": 6,
   "id": "e465f200-5e33-4ce4-bea2-557f1602a45f",
   "metadata": {},
   "outputs": [
    {
     "name": "stdout",
     "output_type": "stream",
     "text": [
      "\n",
      "---------------------------------\n",
      "sigma-min=0.0001 sigma-max=20.0, rho=7.0\n",
      "\n",
      "3.6207435131073\n",
      "\n",
      "---------------------------------\n",
      "sigma-min=0.1 sigma-max=1.0, rho=5.0\n",
      "\n",
      "0.7884336113929749\n",
      "\n",
      "---------------------------------\n",
      "sigma-min=0.0001 sigma-max=1.0, rho=7.0\n",
      "\n",
      "2.2821261882781982\n",
      "\n",
      "---------------------------------\n",
      "sigma-min=0.1 sigma-max=20.0, rho=5.0\n",
      "\n",
      "1.1403182744979858\n",
      "\n",
      "---------------------------------\n",
      "sigma-min=0.05 sigma-max=1.0, rho=5.0\n",
      "\n",
      "1.603183388710022\n",
      "\n",
      "---------------------------------\n",
      "sigma-min=0.1 sigma-max=5.0, rho=5.0\n",
      "\n",
      "1.4022505283355713\n",
      "\n",
      "---------------------------------\n",
      "sigma-min=0.05 sigma-max=1.0, rho=9.0\n",
      "\n",
      "1.6622364521026611\n",
      "\n",
      "---------------------------------\n",
      "sigma-min=0.0001 sigma-max=5.0, rho=5.0\n",
      "\n",
      "3.4981727600097656\n",
      "\n",
      "---------------------------------\n",
      "sigma-min=0.1 sigma-max=20.0, rho=9.0\n",
      "\n",
      "1.1558301448822021\n",
      "\n",
      "---------------------------------\n",
      "sigma-min=0.0001 sigma-max=5.0, rho=9.0\n",
      "\n",
      "3.479304075241089\n",
      "\n",
      "---------------------------------\n",
      "sigma-min=0.1 sigma-max=5.0, rho=7.0\n",
      "\n",
      "1.3337764739990234\n",
      "\n",
      "---------------------------------\n",
      "sigma-min=0.1 sigma-max=1.0, rho=7.0\n",
      "\n",
      "0.7646510004997253\n",
      "\n",
      "---------------------------------\n",
      "sigma-min=0.05 sigma-max=20.0, rho=5.0\n",
      "\n",
      "2.4470889568328857\n",
      "\n",
      "---------------------------------\n",
      "sigma-min=0.05 sigma-max=5.0, rho=7.0\n",
      "\n",
      "2.6265439987182617\n",
      "\n",
      "---------------------------------\n",
      "sigma-min=0.05 sigma-max=5.0, rho=5.0\n",
      "\n",
      "2.6532537937164307\n",
      "\n",
      "---------------------------------\n",
      "sigma-min=0.0001 sigma-max=5.0, rho=7.0\n",
      "\n",
      "3.2214584350585938\n",
      "\n",
      "---------------------------------\n",
      "sigma-min=0.0001 sigma-max=1.0, rho=5.0\n",
      "\n",
      "2.1000473499298096\n",
      "\n",
      "---------------------------------\n",
      "sigma-min=0.0001 sigma-max=1.0, rho=9.0\n",
      "\n",
      "2.1674132347106934\n",
      "\n",
      "---------------------------------\n",
      "sigma-min=0.1 sigma-max=1.0, rho=9.0\n",
      "\n",
      "0.8284698724746704\n",
      "\n",
      "---------------------------------\n",
      "sigma-min=0.1 sigma-max=20.0, rho=7.0\n",
      "\n",
      "0.9113054275512695\n",
      "\n",
      "---------------------------------\n",
      "sigma-min=0.1 sigma-max=5.0, rho=9.0\n",
      "\n",
      "1.2568233013153076\n",
      "\n",
      "---------------------------------\n",
      "sigma-min=0.05 sigma-max=20.0, rho=7.0\n",
      "\n",
      "2.1761186122894287\n",
      "\n",
      "---------------------------------\n",
      "sigma-min=0.05 sigma-max=20.0, rho=9.0\n",
      "\n",
      "2.6541993618011475\n",
      "\n",
      "---------------------------------\n",
      "sigma-min=0.05 sigma-max=1.0, rho=7.0\n",
      "\n",
      "1.6589710712432861\n",
      "\n",
      "---------------------------------\n",
      "sigma-min=0.0001 sigma-max=20.0, rho=9.0\n",
      "\n",
      "3.5128140449523926\n",
      "\n",
      "---------------------------------\n",
      "sigma-min=0.05 sigma-max=5.0, rho=9.0\n",
      "\n",
      "2.695711851119995\n",
      "\n",
      "---------------------------------\n",
      "sigma-min=0.0001 sigma-max=20.0, rho=5.0\n",
      "\n",
      "3.2553164958953857\n"
     ]
    }
   ],
   "source": [
    "for path in Path(\"grid-search-schedule/\").glob(\"*\"):\n",
    "    print(\"\\n---------------------------------\")\n",
    "    smin, smax, rho = path.name.split(\"-\")\n",
    "    print(f\"sigma-min={smin} sigma-max={smax}, rho={rho}\\n\")\n",
    "    results = evaluate_data(path)\n",
    "    print(results[\"sdr\"])\n",
    "    "
   ]
  },
  {
   "cell_type": "code",
   "execution_count": 25,
   "id": "32041081-0b63-418a-b7d5-ec8dfb58428b",
   "metadata": {},
   "outputs": [
    {
     "name": "stderr",
     "output_type": "stream",
     "text": [
      "100%|██████████| 48/48 [00:00<00:00, 147.30it/s]\n"
     ]
    },
    {
     "name": "stdout",
     "output_type": "stream",
     "text": [
      "[00]: \t(0.7027) \t(1.0000)\t bass=-1.833\t drums=6.1318\n",
      "[01]: \t(0.6571) \t(1.0000)\t bass=4.425\t drums=2.1312\n",
      "[02]: \t(0.6682) \t(1.0000)\t bass=1.939\t drums=3.7263\n",
      "[03]: \t(0.5316) \t(1.0000)\t bass=7.625\t drums=2.7491\n",
      "[04]: \t(0.4069) \t(1.0000)\t bass=3.983\t drums=4.8827\n",
      "[05]: \t(0.1375) \t(0.4310)\t bass=0.931\t drums=6.1348\n",
      "[06]: \t(0.4774) \t(1.0000)\t bass=0.663\t drums=6.8117\n",
      "[07]: \t(0.5299) \t(1.0000)\t bass=3.077\t drums=6.5311\n",
      "[08]: \t(0.3761) \t(0.8795)\t bass=1.650\t drums=5.5166\n",
      "[09]: \t(0.3382) \t(1.0000)\t bass=-1.004\t drums=7.4564\n",
      "[10]: \t(0.2447) \t(1.0000)\t bass=-2.237\t drums=5.7632\n",
      "[11]: \t(0.7815) \t(1.0000)\t bass=-1.355\t drums=5.9645\n",
      "[12]: \t(0.3378) \t(0.9728)\t bass=-4.939\t drums=6.4330\n",
      "[14]: \t(0.4099) \t(1.0000)\t bass=0.986\t drums=4.3455\n",
      "[15]: \t(0.1440) \t(0.6007)\t bass=-20.446\t drums=7.9618\n",
      "[16]: \t(0.4570) \t(0.9467)\t bass=8.674\t drums=7.6329\n",
      "[17]: \t(0.4325) \t(0.9502)\t bass=-0.954\t drums=5.7250\n",
      "[18]: \t(0.6845) \t(1.0000)\t bass=0.459\t drums=6.0074\n",
      "[19]: \t(0.4694) \t(0.8108)\t bass=7.217\t drums=7.2800\n",
      "[20]: \t(0.3696) \t(0.4132)\t bass=8.242\t drums=3.3387\n",
      "[22]: \t(0.5873) \t(1.0000)\t bass=3.601\t drums=5.2792\n",
      "[23]: \t(0.2941) \t(0.0004)\t bass=12.045\t drums=-52.1650\n",
      "[24]: \t(0.0003) \t(1.0000)\t bass=-51.757\t drums=5.9705\n",
      "[25]: \t(0.5641) \t(0.2286)\t bass=8.755\t drums=-8.9301\n",
      "[26]: \t(0.6299) \t(1.0000)\t bass=2.162\t drums=4.9619\n",
      "[27]: \t(0.3074) \t(0.9905)\t bass=8.976\t drums=5.4083\n",
      "[29]: \t(0.3066) \t(0.9037)\t bass=2.969\t drums=4.9557\n",
      "[30]: \t(0.4132) \t(0.9594)\t bass=5.504\t drums=7.8265\n",
      "[32]: \t(0.4647) \t(1.0000)\t bass=3.148\t drums=5.1965\n",
      "[33]: \t(0.7659) \t(0.8145)\t bass=4.456\t drums=2.1575\n",
      "[35]: \t(0.2344) \t(1.0000)\t bass=-5.122\t drums=6.1392\n",
      "[36]: \t(0.2984) \t(0.8456)\t bass=-0.367\t drums=6.4583\n",
      "[37]: \t(0.1572) \t(0.3962)\t bass=2.888\t drums=7.5790\n",
      "[38]: \t(0.4955) \t(1.0000)\t bass=8.178\t drums=7.4582\n",
      "[39]: \t(0.3700) \t(0.8533)\t bass=5.317\t drums=9.0863\n",
      "[40]: \t(0.4488) \t(0.0010)\t bass=11.989\t drums=-42.9035\n",
      "[41]: \t(0.5212) \t(0.9899)\t bass=5.741\t drums=1.7679\n",
      "[43]: \t(0.8163) \t(1.0000)\t bass=2.693\t drums=1.8799\n",
      "[44]: \t(0.4289) \t(0.9773)\t bass=6.304\t drums=4.7285\n",
      "[45]: \t(0.3455) \t(0.8323)\t bass=6.293\t drums=3.5751\n",
      "[46]: \t(0.3726) \t(0.6042)\t bass=3.513\t drums=4.8818\n",
      "[47]: \t(0.5349) \t(0.9420)\t bass=1.503\t drums=3.8619\n",
      "tensor(1.5689) tensor(2.5642)\n",
      "tensor(2.0665)\n"
     ]
    }
   ],
   "source": [
    "#!tar czf \"sep.tar.xz\"  \"separations-musdb-irene-2/\"\n",
    "\n",
    "from pathlib import Path\n",
    "import torchaudio\n",
    "import tqdm\n",
    "from main.separation import enforce_mixture_consistency\n",
    "\n",
    "def load_separation_data(separation_path):\n",
    "    separation_folder = Path(separation_path)\n",
    "    seps1, seps2, oris1, oris2, ms = [], [], [], [], []\n",
    "    chunks = []\n",
    "    \n",
    "    for chunk_folder in tqdm.tqdm(list(separation_folder.glob(\"*\"))):\n",
    "        original_tracks = [torchaudio.load(ori) for ori in sorted(list(chunk_folder.glob(\"ori*.wav\")))]\n",
    "        separated_tracks = [torchaudio.load(sep) for sep in sorted(list(chunk_folder.glob(\"sep*.wav\")))]\n",
    "\n",
    "        original_tracks, sample_rates_ori = zip(*original_tracks)\n",
    "        separated_tracks, sample_rates_sep = zip(*separated_tracks)\n",
    "\n",
    "        assert len({*sample_rates_ori, *sample_rates_sep}) == 1\n",
    "        sample_rate = sample_rates_ori[0]\n",
    "\n",
    "        assert len(original_tracks) == len(separated_tracks)\n",
    "        assert len(original_tracks) == 2\n",
    "        ori1, ori2 = original_tracks\n",
    "        sep1, sep2 = separated_tracks\n",
    "\n",
    "        m = ori1 + ori2\n",
    "\n",
    "        #if torch.amax(torch.abs(ori1)) < 1e-3 or torch.amax(torch.abs(ori2)) < 1e-3:\n",
    "        #    continue\n",
    "        \n",
    "        chunks.append(int(chunk_folder.name))\n",
    "        seps1.append(sep1)\n",
    "        seps2.append(sep2)\n",
    "        oris1.append(ori1)\n",
    "        oris2.append(ori2)\n",
    "        ms.append(m)\n",
    "\n",
    "    seps1 = torch.stack(seps1, dim=0)\n",
    "    seps2 = torch.stack(seps2, dim=0)\n",
    "    seps = torch.stack([seps1, seps2], dim=1)\n",
    "\n",
    "    oris1 = torch.stack(oris1, dim=0)\n",
    "    oris2 = torch.stack(oris2, dim=0)\n",
    "    oris = torch.stack([oris1, oris2], dim=1)\n",
    "\n",
    "    ms = torch.stack(ms, dim=0)\n",
    "    return [seps1,seps2], [oris1,oris2], ms, chunks\n",
    "\n",
    "def sdr(preds, targets):\n",
    "    preds = preds.cpu()\n",
    "    targets = targets.cpu()\n",
    "\n",
    "    signal = torch.norm(targets) ** 2\n",
    "    e_error = torch.norm(preds - targets) ** 2\n",
    "    return 10 * torch.log10( signal/e_error )\n",
    "\n",
    "\n",
    "(seps1,seps2),(oris1, oris2), ms, chunks = load_separation_data(\"separations-musdb-dpm2\")\n",
    "\n",
    "tmp = list(zip(chunks, seps1,seps2,oris1,oris2, ms))\n",
    "tmp = sorted(tmp, key=lambda x:x[0])\n",
    "\n",
    "bass_sdrs, drums_sdrs = [], []\n",
    "\n",
    "\n",
    "def is_non_zero(source_waveforms):\n",
    "  \"\"\"Return shape (source,) weights for signals that are nonzero.\"\"\"\n",
    "  source_norms = torch.sqrt(torch.mean(source_waveforms**2, axis=-1))\n",
    "  return source_norms > 1e-8\n",
    "\n",
    "for (chunk,s1,s2,o1,o2,m) in tmp:\n",
    "    #if torch.amax(torch.abs(o1)) < 1e-3 or torch.amax(torch.abs(o2)) < 1e-3:\n",
    "    #    continue\n",
    "    \n",
    "    if not is_non_zero(o1) or not is_non_zero(o2):\n",
    "        continue\n",
    "        \n",
    "    s1,s2 = enforce_mixture_consistency(m, torch.stack([s1.view(1,1,-1), s2.view(1,1,-1)], dim=1))\n",
    "    print(f\"[{chunk:02d}]: \\t({torch.amax(torch.abs(o1)):.4f}) \\t({torch.amax(torch.abs(o2)):.4f})\\t bass={sdr(s1,o1):.3f}\\t drums={sdr(s2,o2):.4f}\")\n",
    "    bass_sdrs.append(sdr(s1,o1))\n",
    "    drums_sdrs.append(sdr(s2,o2))\n",
    "\n",
    "sdr1 = sum(bass_sdrs)/len(bass_sdrs)\n",
    "sdr2 = sum(drums_sdrs)/len(drums_sdrs)\n",
    "print(sdr1, sdr2)\n",
    "print((sdr1+sdr2)*0.5)\n"
   ]
  },
  {
   "cell_type": "code",
   "execution_count": 2,
   "id": "7d3e0969-df76-4c3c-836c-37b1b6c18d9f",
   "metadata": {},
   "outputs": [
    {
     "name": "stderr",
     "output_type": "stream",
     "text": [
      "100%|██████████| 48/48 [00:00<00:00, 124.57it/s]\n"
     ]
    },
    {
     "name": "stdout",
     "output_type": "stream",
     "text": [
      "SI-SDR piano:  0.47045114636421204\n",
      "SI-SDR basso:  3.94543194770813\n",
      "SI-SDRi piano:  3.2123315632343292\n",
      "SI-SDRi basso:  1.348285436630249\n",
      "\n",
      "SI-SNR piano:  0.471749871969223\n",
      "SI-SNR basso:  3.9458775520324707\n",
      "SI-SNRi piano:  3.21295365691185\n",
      "SI-SNRi basso:  1.3492193222045898\n",
      "\n",
      "SDR mean:  3.3860299489753944\n",
      "3.6767312666719043e-10\n",
      "SDRi mean:  3.3860299486077214\n"
     ]
    }
   ],
   "source": [
    "evaluate_data(\"separations-musdb-dpm2\")"
   ]
  },
  {
   "cell_type": "markdown",
   "id": "5a4d9de2-3fac-48d4-acf4-c9931586945d",
   "metadata": {
    "pycharm": {
     "name": "#%% md\n"
    }
   },
   "source": [
    "## Compute separation metrics"
   ]
  },
  {
   "cell_type": "code",
   "execution_count": null,
   "id": "98226f89-6cdf-43ad-8de6-aa1e1f6d6196",
   "metadata": {
    "pycharm": {
     "name": "#%%\n"
    }
   },
   "outputs": [],
   "source": [
    "import torchmetrics.functional.audio as tma\n",
    "from pathlib import Path\n",
    "import torchaudio\n",
    "import torch\n",
    "import tqdm\n",
    "\n",
    "\n",
    "def si_snr(preds, target):\n",
    "    return tma.scale_invariant_signal_noise_ratio(preds=preds.cpu(), target=target.cpu()).mean().item()\n",
    "\n",
    "def si_sdr(preds, target):\n",
    "    return tma.scale_invariant_signal_distortion_ratio(preds=preds.cpu(), target=target.cpu()).mean().item()\n",
    "\n",
    "def sdr(preds, target):\n",
    "    return tma.signal_distortion_ratio(preds=preds.cpu(), target=target.cpu()).mean().item()"
   ]
  },
  {
   "cell_type": "code",
   "execution_count": null,
   "id": "8ff50f9e-33d6-4408-ac39-9109d24f3c9b",
   "metadata": {
    "pycharm": {
     "name": "#%%\n"
    }
   },
   "outputs": [
    {
     "data": {
      "application/vnd.jupyter.widget-view+json": {
       "model_id": "ccb43d0ef15947f8a6410abdcc635c68",
       "version_major": 2,
       "version_minor": 0
      },
      "text/plain": [
       "  0%|          | 0/35 [00:00<?, ?it/s]"
      ]
     },
     "metadata": {},
     "output_type": "display_data"
    },
    {
     "name": "stdout",
     "output_type": "stream",
     "text": [
      "SI-SDR piano:  -1.4496734142303467\n",
      "SI-SDR basso:  2.3900609016418457\n",
      "SI-SDRi piano:  0.8651337623596191\n",
      "SI-SDRi basso:  -3.06253719329834\n",
      "\n",
      "SI-SNR piano:  -1.6719918251037598\n",
      "SI-SNR basso:  1.7373285293579102\n",
      "SI-SNRi piano:  0.477435827255249\n",
      "SI-SNRi basso:  -3.596161365509033\n",
      "\n",
      "SDR piano:  0.2750040888786316\n",
      "SDR basso:  2.827162981033325\n",
      "SDRi piano:  1.6498166918754578\n",
      "SDRi basso:  -3.1223719120025635\n"
     ]
    }
   ],
   "source": [
    "separation_folder = Path(\"separations\")\n",
    "\n",
    "seps1, seps2, oris1, oris2, ms = [], [], [], [], []\n",
    "for file in tqdm.autonotebook.tqdm(list(separation_folder.glob(\"*\"))):\n",
    "    ori1, _ = torchaudio.load(file / \"ori1.wav\")\n",
    "    ori2, _ = torchaudio.load(file / \"ori2.wav\")\n",
    "    sep1, _ = torchaudio.load(file / \"sep1.wav\")\n",
    "    sep2, _ = torchaudio.load(file / \"sep2.wav\")\n",
    "    m = ori1 + ori2\n",
    "    \n",
    "    if torch.amax(torch.abs(ori1 - m)) < 1e-5 or torch.amax(torch.abs(ori2 - m)) < 1e-5:\n",
    "        continue\n",
    "    \n",
    "    seps1.append(sep1)\n",
    "    seps2.append(sep2)\n",
    "    oris1.append(ori1) \n",
    "    oris2.append(ori2)\n",
    "    ms.append(m)\n",
    "\n",
    "seps1 = torch.cat(seps1, dim=0)\n",
    "seps2 = torch.cat(seps2, dim=0)\n",
    "oris1 = torch.cat(oris1, dim=0)\n",
    "oris2 = torch.cat(oris2, dim=0)\n",
    "ms = torch.cat(ms, dim=0)\n",
    "\n",
    "print(\"SI-SDR piano: \",si_sdr(seps1, oris1))\n",
    "print(\"SI-SDR basso: \",si_sdr(seps2, oris2))\n",
    "print(\"SI-SDRi piano: \", si_sdr(seps1, oris1) - si_sdr(ms, oris1))\n",
    "print(\"SI-SDRi basso: \", si_sdr(seps2, oris2) - si_sdr(ms, oris2))\n",
    "print()\n",
    "print(\"SI-SNR piano: \", si_snr(seps1, oris1))\n",
    "print(\"SI-SNR basso: \", si_snr(seps2, oris2))\n",
    "print(\"SI-SNRi piano: \", si_snr(seps1, oris1) - si_snr(ms, oris1))\n",
    "print(\"SI-SNRi basso: \", si_snr(seps2, oris2) - si_snr(ms, oris2))\n",
    "print()\n",
    "print(\"SDR piano: \",sdr(seps1, oris1))\n",
    "print(\"SDR basso: \",sdr(seps2, oris2))\n",
    "print(\"SDRi piano: \",sdr(seps1, oris1) - sdr(ms, oris1) )\n",
    "print(\"SDRi basso: \",sdr(seps2, oris2) - sdr(ms, oris2) )\n",
    "\n",
    "#print(f\"SI-SNRi (1): {si_snri_1/count}\")\n",
    "#print(f\"SI-SNRi (2): {si_snri_2/count}\")\n",
    "#    print(f\"SI-SNR (mix): {si_snr(sep1+sep2, m)}\\n\")\n",
    "    \n",
    "    \n",
    "    \n"
   ]
  },
  {
   "cell_type": "markdown",
   "id": "378d333f-3d6d-4427-8cd5-79da51ea4af2",
   "metadata": {
    "jp-MarkdownHeadingCollapsed": true,
    "pycharm": {
     "name": "#%% md\n"
    },
    "tags": []
   },
   "source": [
    "# Compute data statistics"
   ]
  },
  {
   "cell_type": "code",
   "execution_count": null,
   "id": "f84742b9-fb1f-45bf-b5b6-d09bf2aefa15",
   "metadata": {
    "pycharm": {
     "name": "#%%\n"
    }
   },
   "outputs": [],
   "source": [
    "from audio_data_pytorch import WAVDataset\n",
    "import numpy as np\n",
    "import pandas as pd\n",
    "from tqdm.notebook import tqdm \n",
    "from audio_data_pytorch.transforms import Loudness\n",
    "\n",
    "dataset = WAVDataset(\"/data/MusDB/data/drums/train\")\n",
    "\n",
    "fn = lambda x:x #Loudness(44100, -20)\n",
    "wavs_norms = pd.Series([np.linalg.norm(fn(wav)) for wav in tqdm(dataset)])"
   ]
  },
  {
   "cell_type": "code",
   "execution_count": null,
   "id": "7d85c63b-5cea-4010-a3e7-5fe999e08f0c",
   "metadata": {
    "pycharm": {
     "name": "#%%\n"
    }
   },
   "outputs": [],
   "source": [
    "wav_norm_normalized = wavs_norms / wavs_norms.mean()\n",
    "print(wav_norm_normalized.describe())\n",
    "wav_norm_normalized.hist(bins=30)"
   ]
  },
  {
   "cell_type": "code",
   "execution_count": null,
   "id": "718de628-0f7c-456f-9f73-dbb3adca4746",
   "metadata": {
    "pycharm": {
     "name": "#%%\n"
    }
   },
   "outputs": [],
   "source": [
    "wavs_stds = pd.Series([wav.std().item() for wav in tqdm(dataset)])\n",
    "wavs_stds.describe()"
   ]
  },
  {
   "cell_type": "code",
   "execution_count": null,
   "id": "5bed13c3-d874-48fd-a926-c9a6e737b015",
   "metadata": {
    "pycharm": {
     "name": "#%%\n"
    }
   },
   "outputs": [],
   "source": [
    "wav = dataset[0]#,int(1e6):int(1e6)+ 50].numpy()\n",
    "wav_diff = np.diff(np.diff(wav))\n",
    "plt.plot(wav)\n",
    "plt.plot(wav_diff/np.linalg.norm(wav_diff)*np.linalg.norm(wav))\n",
    "si_snr(wav[:-2], torch.from_numpy(wav_diff))"
   ]
  },
  {
   "cell_type": "code",
   "execution_count": null,
   "id": "ed9da14b-0861-4c98-9927-a2b98a329309",
   "metadata": {
    "pycharm": {
     "name": "#%%\n"
    }
   },
   "outputs": [],
   "source": [
    "from main.dataset import ChunkedWAVDataset \n",
    "from audio_data_pytorch import AllTransform\n",
    "dataset_val = ChunkedWAVDataset(\n",
    "    path=\"/data/MusDB/data/drums/test\", \n",
    "    max_chunk_size=22050,\n",
    "    recursive=True,\n",
    "    transforms=AllTransform(source_rate=44100, target_rate=44100, mono=True),\n",
    ")"
   ]
  },
  {
   "cell_type": "code",
   "execution_count": null,
   "id": "e94bbb35-f7d4-4ef2-a642-552b031d8d2e",
   "metadata": {
    "pycharm": {
     "name": "#%%\n"
    }
   },
   "outputs": [],
   "source": [
    "import scipy\n",
    "conv1d = scipy.signal.fftconvolve\n",
    "norm = np.linalg.norm\n",
    "\n",
    "\n",
    "def compute_cossim(wav:np.ndarray, chunk:np.ndarray):\n",
    "    chunk_size = chunk.shape[-1]\n",
    "    chunk_norm = np.linalg.norm(chunk)\n",
    "    dot_wav = conv1d(wav, np.flip(chunk), mode=\"same\")\n",
    "    wav_norm = np.sqrt(conv1d(wav**2, np.ones_like(chunk), mode=\"same\"))\n",
    "    wav_norm[np.isnan(wav_norm)] = 0.0\n",
    "    \n",
    "    cossim = np.zeros_like(dot_wav)\n",
    "    mask = wav_norm != 0\n",
    "    cossim[mask] = dot_wav[mask] / (wav_norm[mask] * chunk_norm)\n",
    "    return cossim\n",
    "\n",
    "chunk = dataset_val[0][0].numpy()\n",
    "plt.plot(chunk)\n",
    "plt.show()\n",
    "\n",
    "cossims = []\n",
    "for wav in tqdm(dataset):\n",
    "    wav = wav[0].numpy()\n",
    "    cossim = compute_cossim(wav, chunk)\n",
    "    i = cossim.argmax()\n",
    "    cossims.append( (i, cossim[i]) )\n",
    "    \n",
    "\n",
    "#wav = dataset[1][0].numpy()\n",
    "#chunk = dataset_val[100][0].numpy()\n",
    "\n",
    "def compute_cossim(wav:np.ndarray, chunk:np.ndarray):\n",
    "    chunk_size = chunk.shape[-1]\n",
    "    chunk_norm = np.linalg.norm(chunk)\n",
    "    dot_wav = conv1d(wav, np.flip(chunk), mode=\"same\")\n",
    "    wav_norm = np.sqrt(conv1d(wav**2, np.ones_like(chunk), mode=\"same\"))\n",
    "    wav_norm[np.isnan(wav_norm)] = 0.0\n",
    "    \n",
    "    cossim = np.zeros_like(dot_wav)\n",
    "    mask = wav_norm != 0\n",
    "    cossim[mask] = dot_wav[mask] / (wav_norm[mask] * chunk_norm)\n",
    "    return cossim"
   ]
  },
  {
   "cell_type": "code",
   "execution_count": null,
   "id": "4952a5ce-23a8-4700-b163-bf7f4f3df750",
   "metadata": {
    "pycharm": {
     "name": "#%%\n"
    }
   },
   "outputs": [],
   "source": [
    "a,b = zip(*cossims)\n",
    "chunk_size = chunk.shape[-1]\n",
    "wav_idx, chunk_idx, val = max(zip(range(len(a)),a,b),key=lambda x:x[-1])\n",
    "\n",
    "wav_chunk = dataset[wav_idx][0,chunk_idx-chunk_size//2:chunk_idx+chunk_size//2]\n",
    "\n",
    "print(wav_idx, chunk_idx, val)\n",
    "\n",
    "plt.plot(chunk/norm(chunk))\n",
    "plt.plot(wav_chunk/norm(wav_chunk))\n",
    "display(Audio(wav_chunk, rate=44100))\n",
    "\n",
    "np.dot(wav_chunk, chunk)/(norm(wav_chunk)*norm(chunk))"
   ]
  },
  {
   "cell_type": "code",
   "execution_count": null,
   "id": "1cc0fd9a-01ec-4303-85a5-455bf2d82f48",
   "metadata": {
    "jp-MarkdownHeadingCollapsed": true,
    "pycharm": {
     "name": "#%%\n"
    },
    "tags": []
   },
   "outputs": [],
   "source": [
    "i= 1000001\n",
    "chunk_slice = slice(i-chunk_size//2,i+chunk_size//2)\n",
    "print(wav_norm[i], np.linalg.norm(wav[chunk_slice]))\n",
    "print(np.dot(wav[chunk_slice], chunk), dot_wav[i])"
   ]
  },
  {
   "cell_type": "code",
   "execution_count": null,
   "id": "6cbac3f3-eba1-45c4-97af-53fc86a0295f",
   "metadata": {
    "pycharm": {
     "name": "#%%\n"
    }
   },
   "outputs": [],
   "source": [
    "display(Audio(chunk, rate=44100))\n",
    "plt.plot(cossim)"
   ]
  },
  {
   "cell_type": "code",
   "execution_count": null,
   "id": "0372fd80-6f01-494f-9050-d69ae21be322",
   "metadata": {
    "pycharm": {
     "name": "#%%\n"
    }
   },
   "outputs": [],
   "source": [
    "i = (cossim>0.1).nonzero()[0][1000]#cossim.argmax()\n",
    "print(i,\":\",cossim[i])\n",
    "\n",
    "plt.plot(chunk/chunk_norm)\n",
    "wav_chunk = wav[i-chunk_size//2:i+chunk_size//2]\n",
    "plt.plot(wav_chunk/wav_norm[i])\n",
    "print(wav.shape)\n",
    "display(Audio(wav_chunk, rate=44100))\n",
    "\n",
    "print(dot_wav[i])\n",
    "np.dot(wav_chunk, chunk)/(norm(wav_chunk)*norm(chunk))"
   ]
  },
  {
   "cell_type": "code",
   "execution_count": null,
   "id": "8711e97f-d898-4157-adb2-ca07ce00b3e2",
   "metadata": {
    "pycharm": {
     "name": "#%%\n"
    }
   },
   "outputs": [],
   "source": [
    "interpol = np.arange(chunk_size)/chunk_size\n",
    "display(Audio(wav_chunk*interpol + (1-interpol)*chunk, rate=44100))\n",
    "print(interpol)"
   ]
  }
 ],
 "metadata": {
  "kernelspec": {
   "display_name": "Python 3",
   "language": "python",
   "name": "python3"
  },
  "language_info": {
   "codemirror_mode": {
    "name": "ipython",
    "version": 3
   },
   "file_extension": ".py",
   "mimetype": "text/x-python",
   "name": "python",
   "nbconvert_exporter": "python",
   "pygments_lexer": "ipython3",
   "version": "3.9.13"
  }
 },
 "nbformat": 4,
 "nbformat_minor": 5
}
