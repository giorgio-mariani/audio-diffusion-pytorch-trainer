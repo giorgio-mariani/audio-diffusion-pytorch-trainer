{
 "cells": [
  {
   "cell_type": "code",
   "execution_count": null,
   "id": "93f64c09-1a94-4d4e-8dcb-27e4192f6463",
   "metadata": {},
   "outputs": [],
   "source": [
    "import sys\n",
    "from pathlib import Path\n",
    "import torch\n",
    "import matplotlib.pyplot as plt\n",
    "from IPython.display import Audio\n",
    "\n",
    "\n",
    "ROOT_PATH=Path(\"..\").resolve().absolute()\n",
    "DEVICE=torch.device(\"cpu\")#\n",
    "sys.path.append(str(ROOT_PATH))\n",
    "\n",
    "%load_ext autoreload\n",
    "%autoreload 2"
   ]
  },
  {
   "cell_type": "markdown",
   "id": "5a4d9de2-3fac-48d4-acf4-c9931586945d",
   "metadata": {},
   "source": [
    "## Compute separation metrics"
   ]
  },
  {
   "cell_type": "code",
   "execution_count": null,
   "id": "98226f89-6cdf-43ad-8de6-aa1e1f6d6196",
   "metadata": {},
   "outputs": [],
   "source": [
    "import torchmetrics.functional.audio as tma\n",
    "from pathlib import Path\n",
    "import torchaudio\n",
    "import torch\n",
    "import tqdm\n",
    "\n",
    "\n",
    "def si_snr(preds, target):\n",
    "    return tma.scale_invariant_signal_noise_ratio(preds=preds.cpu(), target=target.cpu()).mean().item()\n",
    "\n",
    "def si_sdr(preds, target):\n",
    "    return tma.scale_invariant_signal_distortion_ratio(preds=preds.cpu(), target=target.cpu()).mean().item()\n",
    "\n",
    "def sdr(preds, target):\n",
    "    return tma.signal_distortion_ratio(preds=preds.cpu(), target=target.cpu()).mean().item()"
   ]
  },
  {
   "cell_type": "code",
   "execution_count": null,
   "id": "8ff50f9e-33d6-4408-ac39-9109d24f3c9b",
   "metadata": {},
   "outputs": [],
   "source": [
    "separation_folder = Path(\"separations\")\n",
    "\n",
    "seps1, seps2, oris1, oris2, ms = [], [], [], [], []\n",
    "for file in tqdm.autonotebook.tqdm(list(separation_folder.glob(\"*\"))):\n",
    "    ori1, _ = torchaudio.load(file / \"ori1.wav\")\n",
    "    ori2, _ = torchaudio.load(file / \"ori2.wav\")\n",
    "    sep1, _ = torchaudio.load(file / \"sep1.wav\")\n",
    "    sep2, _ = torchaudio.load(file / \"sep2.wav\")\n",
    "    m = ori1 + ori2\n",
    "    \n",
    "    if torch.amax(torch.abs(ori1 - m)) < 1e-5 or torch.amax(torch.abs(ori2 - m)) < 1e-5:\n",
    "        continue\n",
    "    \n",
    "    seps1.append(sep1)\n",
    "    seps2.append(sep2)\n",
    "    oris1.append(ori1) \n",
    "    oris2.append(ori2)\n",
    "    ms.append(m)\n",
    "\n",
    "seps1 = torch.cat(seps1, dim=0)\n",
    "seps2 = torch.cat(seps2, dim=0)\n",
    "oris1 = torch.cat(oris1, dim=0)\n",
    "oris2 = torch.cat(oris2, dim=0)\n",
    "ms = torch.cat(ms, dim=0)\n",
    "\n",
    "print(\"SI-SDR piano: \",si_sdr(seps1, oris1))\n",
    "print(\"SI-SDR basso: \",si_sdr(seps2, oris2))\n",
    "print(\"SI-SDRi piano: \", si_sdr(seps1, oris1) - si_sdr(ms, oris1))\n",
    "print(\"SI-SDRi basso: \", si_sdr(seps2, oris2) - si_sdr(ms, oris2))\n",
    "print()\n",
    "print(\"SI-SNR piano: \", si_snr(seps1, oris1))\n",
    "print(\"SI-SNR basso: \", si_snr(seps2, oris2))\n",
    "print(\"SI-SNRi piano: \", si_snr(seps1, oris1) - si_snr(ms, oris1))\n",
    "print(\"SI-SNRi basso: \", si_snr(seps2, oris2) - si_snr(ms, oris2))\n",
    "print()\n",
    "print(\"SDR piano: \",sdr(seps1, oris1))\n",
    "print(\"SDR basso: \",sdr(seps2, oris2))\n",
    "print(\"SDRi piano: \",sdr(seps1, oris1) - sdr(ms, oris1) )\n",
    "print(\"SDRi basso: \",sdr(seps2, oris2) - sdr(ms, oris2) )\n",
    "\n",
    "#print(f\"SI-SNRi (1): {si_snri_1/count}\")\n",
    "#print(f\"SI-SNRi (2): {si_snri_2/count}\")\n",
    "#    print(f\"SI-SNR (mix): {si_snr(sep1+sep2, m)}\\n\")\n",
    "    \n",
    "    \n",
    "    \n"
   ]
  },
  {
   "cell_type": "markdown",
   "id": "378d333f-3d6d-4427-8cd5-79da51ea4af2",
   "metadata": {
    "tags": []
   },
   "source": [
    "# Compute data statistics"
   ]
  },
  {
   "cell_type": "code",
   "execution_count": null,
   "id": "f84742b9-fb1f-45bf-b5b6-d09bf2aefa15",
   "metadata": {},
   "outputs": [],
   "source": [
    "from audio_data_pytorch import WAVDataset\n",
    "import numpy as np\n",
    "import pandas as pd\n",
    "from tqdm.notebook import tqdm \n",
    "from audio_data_pytorch.transforms import Loudness\n",
    "\n",
    "dataset = WAVDataset(\"/data/MusDB/data/drums/train\")\n",
    "\n",
    "fn = lambda x:x #Loudness(44100, -20)\n",
    "wavs_norms = pd.Series([np.linalg.norm(fn(wav)) for wav in tqdm(dataset)])"
   ]
  },
  {
   "cell_type": "code",
   "execution_count": null,
   "id": "7d85c63b-5cea-4010-a3e7-5fe999e08f0c",
   "metadata": {},
   "outputs": [],
   "source": [
    "wav_norm_normalized = wavs_norms / wavs_norms.mean()\n",
    "print(wav_norm_normalized.describe())\n",
    "wav_norm_normalized.hist(bins=30)"
   ]
  },
  {
   "cell_type": "code",
   "execution_count": null,
   "id": "718de628-0f7c-456f-9f73-dbb3adca4746",
   "metadata": {},
   "outputs": [],
   "source": [
    "wavs_stds = pd.Series([wav.std().item() for wav in tqdm(dataset)])\n",
    "wavs_stds.describe()"
   ]
  },
  {
   "cell_type": "code",
   "execution_count": null,
   "id": "5bed13c3-d874-48fd-a926-c9a6e737b015",
   "metadata": {},
   "outputs": [],
   "source": [
    "wav = dataset[0]#,int(1e6):int(1e6)+ 50].numpy()\n",
    "wav_diff = np.diff(np.diff(wav))\n",
    "plt.plot(wav)\n",
    "plt.plot(wav_diff/np.linalg.norm(wav_diff)*np.linalg.norm(wav))\n",
    "si_snr(wav[:-2], torch.from_numpy(wav_diff))"
   ]
  },
  {
   "cell_type": "code",
   "execution_count": null,
   "id": "ed9da14b-0861-4c98-9927-a2b98a329309",
   "metadata": {},
   "outputs": [],
   "source": [
    "from main.dataset import ChunkedWAVDataset \n",
    "from audio_data_pytorch import AllTransform\n",
    "dataset_val = ChunkedWAVDataset(\n",
    "    path=\"/data/MusDB/data/drums/test\", \n",
    "    max_chunk_size=22050,\n",
    "    recursive=True,\n",
    "    transforms=AllTransform(source_rate=44100, target_rate=44100, mono=True),\n",
    ")"
   ]
  },
  {
   "cell_type": "code",
   "execution_count": null,
   "id": "e94bbb35-f7d4-4ef2-a642-552b031d8d2e",
   "metadata": {},
   "outputs": [],
   "source": [
    "import scipy\n",
    "conv1d = scipy.signal.fftconvolve\n",
    "norm = np.linalg.norm\n",
    "\n",
    "\n",
    "def compute_cossim(wav:np.ndarray, chunk:np.ndarray):\n",
    "    chunk_size = chunk.shape[-1]\n",
    "    chunk_norm = np.linalg.norm(chunk)\n",
    "    dot_wav = conv1d(wav, np.flip(chunk), mode=\"same\")\n",
    "    wav_norm = np.sqrt(conv1d(wav**2, np.ones_like(chunk), mode=\"same\"))\n",
    "    wav_norm[np.isnan(wav_norm)] = 0.0\n",
    "    \n",
    "    cossim = np.zeros_like(dot_wav)\n",
    "    mask = wav_norm != 0\n",
    "    cossim[mask] = dot_wav[mask] / (wav_norm[mask] * chunk_norm)\n",
    "    return cossim\n",
    "\n",
    "chunk = dataset_val[0][0].numpy()\n",
    "plt.plot(chunk)\n",
    "plt.show()\n",
    "\n",
    "cossims = []\n",
    "for wav in tqdm(dataset):\n",
    "    wav = wav[0].numpy()\n",
    "    cossim = compute_cossim(wav, chunk)\n",
    "    i = cossim.argmax()\n",
    "    cossims.append( (i, cossim[i]) )\n",
    "    \n",
    "\n",
    "#wav = dataset[1][0].numpy()\n",
    "#chunk = dataset_val[100][0].numpy()\n",
    "\n",
    "def compute_cossim(wav:np.ndarray, chunk:np.ndarray):\n",
    "    chunk_size = chunk.shape[-1]\n",
    "    chunk_norm = np.linalg.norm(chunk)\n",
    "    dot_wav = conv1d(wav, np.flip(chunk), mode=\"same\")\n",
    "    wav_norm = np.sqrt(conv1d(wav**2, np.ones_like(chunk), mode=\"same\"))\n",
    "    wav_norm[np.isnan(wav_norm)] = 0.0\n",
    "    \n",
    "    cossim = np.zeros_like(dot_wav)\n",
    "    mask = wav_norm != 0\n",
    "    cossim[mask] = dot_wav[mask] / (wav_norm[mask] * chunk_norm)\n",
    "    return cossim"
   ]
  },
  {
   "cell_type": "code",
   "execution_count": null,
   "id": "4952a5ce-23a8-4700-b163-bf7f4f3df750",
   "metadata": {},
   "outputs": [],
   "source": [
    "a,b = zip(*cossims)\n",
    "chunk_size = chunk.shape[-1]\n",
    "wav_idx, chunk_idx, val = max(zip(range(len(a)),a,b),key=lambda x:x[-1])\n",
    "\n",
    "wav_chunk = dataset[wav_idx][0,chunk_idx-chunk_size//2:chunk_idx+chunk_size//2]\n",
    "\n",
    "print(wav_idx, chunk_idx, val)\n",
    "\n",
    "plt.plot(chunk/norm(chunk))\n",
    "plt.plot(wav_chunk/norm(wav_chunk))\n",
    "display(Audio(wav_chunk, rate=44100))\n",
    "\n",
    "np.dot(wav_chunk, chunk)/(norm(wav_chunk)*norm(chunk))"
   ]
  },
  {
   "cell_type": "code",
   "execution_count": null,
   "id": "1cc0fd9a-01ec-4303-85a5-455bf2d82f48",
   "metadata": {
    "jp-MarkdownHeadingCollapsed": true,
    "tags": []
   },
   "outputs": [],
   "source": [
    "i= 1000001\n",
    "chunk_slice = slice(i-chunk_size//2,i+chunk_size//2)\n",
    "print(wav_norm[i], np.linalg.norm(wav[chunk_slice]))\n",
    "print(np.dot(wav[chunk_slice], chunk), dot_wav[i])"
   ]
  },
  {
   "cell_type": "code",
   "execution_count": null,
   "id": "6cbac3f3-eba1-45c4-97af-53fc86a0295f",
   "metadata": {},
   "outputs": [],
   "source": [
    "display(Audio(chunk, rate=44100))\n",
    "plt.plot(cossim)"
   ]
  },
  {
   "cell_type": "code",
   "execution_count": null,
   "id": "0372fd80-6f01-494f-9050-d69ae21be322",
   "metadata": {},
   "outputs": [],
   "source": [
    "i = (cossim>0.1).nonzero()[0][1000]#cossim.argmax()\n",
    "print(i,\":\",cossim[i])\n",
    "\n",
    "plt.plot(chunk/chunk_norm)\n",
    "wav_chunk = wav[i-chunk_size//2:i+chunk_size//2]\n",
    "plt.plot(wav_chunk/wav_norm[i])\n",
    "print(wav.shape)\n",
    "display(Audio(wav_chunk, rate=44100))\n",
    "\n",
    "print(dot_wav[i])\n",
    "np.dot(wav_chunk, chunk)/(norm(wav_chunk)*norm(chunk))"
   ]
  },
  {
   "cell_type": "code",
   "execution_count": null,
   "id": "8711e97f-d898-4157-adb2-ca07ce00b3e2",
   "metadata": {},
   "outputs": [],
   "source": [
    "interpol = np.arange(chunk_size)/chunk_size\n",
    "display(Audio(wav_chunk*interpol + (1-interpol)*chunk, rate=44100))\n",
    "print(interpol)"
   ]
  }
 ],
 "metadata": {
  "kernelspec": {
   "display_name": "Python 3",
   "language": "python",
   "name": "python3"
  },
  "language_info": {
   "codemirror_mode": {
    "name": "ipython",
    "version": 3
   },
   "file_extension": ".py",
   "mimetype": "text/x-python",
   "name": "python",
   "nbconvert_exporter": "python",
   "pygments_lexer": "ipython3",
   "version": "3.9.13"
  }
 },
 "nbformat": 4,
 "nbformat_minor": 5
}
