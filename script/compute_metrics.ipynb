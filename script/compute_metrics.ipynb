{
 "cells": [
  {
   "cell_type": "code",
   "execution_count": 1,
   "id": "fbff77f3",
   "metadata": {
    "pycharm": {
     "name": "#%%\n"
    }
   },
   "outputs": [],
   "source": [
    "import sys\n",
    "from pathlib import Path\n",
    "import torch\n",
    "import matplotlib.pyplot as plt\n",
    "from IPython.display import Audio\n",
    "\n",
    "ROOT_PATH=Path(\"..\").resolve().absolute()\n",
    "DEVICE=torch.device(\"cpu\")#\n",
    "sys.path.append(str(ROOT_PATH))\n",
    "\n",
    "%load_ext autoreload\n",
    "%autoreload 2\n",
    "from evaluation.evaluate_separation import evaluate_data, read_ablation_results\n"
   ]
  },
  {
   "cell_type": "code",
   "execution_count": 3,
   "id": "70b98064-24fa-4d0a-bb98-fa54339e3073",
   "metadata": {},
   "outputs": [
    {
     "name": "stderr",
     "output_type": "stream",
     "text": [
      "  0%|                                                                                                                                                  | 0/1 [00:00<?, ?it/s]\n"
     ]
    },
    {
     "ename": "AssertionError",
     "evalue": "<class 'list'>",
     "output_type": "error",
     "traceback": [
      "\u001b[0;31m---------------------------------------------------------------------------\u001b[0m",
      "\u001b[0;31mAssertionError\u001b[0m                            Traceback (most recent call last)",
      "Cell \u001b[0;32mIn[3], line 2\u001b[0m\n\u001b[1;32m      1\u001b[0m path\u001b[38;5;241m=\u001b[39m\u001b[38;5;124m\"\u001b[39m\u001b[38;5;124mcontextual_dirac_slakh_resample\u001b[39m\u001b[38;5;124m\"\u001b[39m\n\u001b[0;32m----> 2\u001b[0m \u001b[43mread_ablation_results\u001b[49m\u001b[43m(\u001b[49m\u001b[38;5;124;43mf\u001b[39;49m\u001b[38;5;124;43m\"\u001b[39;49m\u001b[38;5;124;43m../separations/\u001b[39;49m\u001b[38;5;132;43;01m{\u001b[39;49;00m\u001b[43mpath\u001b[49m\u001b[38;5;132;43;01m}\u001b[39;49;00m\u001b[38;5;124;43m\"\u001b[39;49m\u001b[43m,\u001b[49m\u001b[43m \u001b[49m\u001b[38;5;124;43mf\u001b[39;49m\u001b[38;5;124;43m\"\u001b[39;49m\u001b[38;5;124;43m../separations/\u001b[39;49m\u001b[38;5;132;43;01m{\u001b[39;49;00m\u001b[43mpath\u001b[49m\u001b[38;5;132;43;01m}\u001b[39;49;00m\u001b[38;5;124;43m\"\u001b[39;49m\u001b[43m)\u001b[49m\n",
      "File \u001b[0;32m~/Documents/audio-diffusion-pytorch-trainer/evaluation/evaluate_separation.py:104\u001b[0m, in \u001b[0;36mread_ablation_results\u001b[0;34m(sep_dir, output_file)\u001b[0m\n\u001b[1;32m    102\u001b[0m \u001b[38;5;28;01mwith\u001b[39;00m \u001b[38;5;28mopen\u001b[39m(hparam_path, \u001b[38;5;124m\"\u001b[39m\u001b[38;5;124mr\u001b[39m\u001b[38;5;124m\"\u001b[39m) \u001b[38;5;28;01mas\u001b[39;00m f:\n\u001b[1;32m    103\u001b[0m     hparams \u001b[38;5;241m=\u001b[39m json\u001b[38;5;241m.\u001b[39mload(f)\n\u001b[0;32m--> 104\u001b[0m     \u001b[38;5;28;01massert\u001b[39;00m \u001b[38;5;28misinstance\u001b[39m(hparams, Mapping), \u001b[38;5;28mtype\u001b[39m(hparams)\n\u001b[1;32m    106\u001b[0m     match \u001b[38;5;241m=\u001b[39m re\u001b[38;5;241m.\u001b[39mfullmatch(\n\u001b[1;32m    107\u001b[0m         \u001b[38;5;124m\"\u001b[39m\u001b[38;5;124mexperiment-(?P<exp_num>[0-9]*)-hparams.json\u001b[39m\u001b[38;5;124m\"\u001b[39m, hparam_path\u001b[38;5;241m.\u001b[39mname\n\u001b[1;32m    108\u001b[0m     )\n\u001b[1;32m    109\u001b[0m     \u001b[38;5;28;01massert\u001b[39;00m match \u001b[38;5;129;01mis\u001b[39;00m \u001b[38;5;129;01mnot\u001b[39;00m \u001b[38;5;28;01mNone\u001b[39;00m\n",
      "\u001b[0;31mAssertionError\u001b[0m: <class 'list'>"
     ]
    }
   ],
   "source": [
    "path=\"contextual_dirac_slakh_resample\"\n",
    "read_ablation_results(f\"../separations/{path}\", f\"../separations/{path}\")"
   ]
  },
  {
   "cell_type": "code",
   "execution_count": 64,
   "id": "33b4444e",
   "metadata": {
    "pycharm": {
     "name": "#%%\n"
    }
   },
   "outputs": [
    {
     "name": "stdout",
     "output_type": "stream",
     "text": [
      "\n",
      "---------------------------------\n",
      "sampler='slack_sampler=CrawsonEulerExtractor', s_churn='s_churn=1.0'\n",
      "\n",
      "SI-SNR 1:\t\t\t 14.703672409057617\n",
      "SI-SNR 2:\t\t\t 16.606136322021484\n",
      "sep1:\t\t\t\t 16.052534103393555\n",
      "sep2:\t\t\t\t 16.99407196044922\n",
      "m - sep1:\t\t\t 15.730925559997559\n",
      "m - sep2:\t\t\t 17.016225814819336\n",
      "norm 1:\t\t\t 16.052534103393555\n",
      "norm 2:\t\t\t 16.99407196044922\n",
      "m - sep1 and norm:\t\t 15.730925559997559\n",
      "m - sep2 and norm:\t\t 17.016225814819336\n",
      "norm and cons 1:\t\t 16.308622360229492\n",
      "norm and cons 2:\t\t 17.555713653564453\n",
      "m - sep1 and norm and cons: 15.831021308898926\n",
      "m - sep1 and norm and cons: 17.169841766357422\n",
      "\n",
      "SDR mean:\t\t\t 16.52330207824707\n",
      "\n",
      "---------------------------------\n",
      "sampler='slack_sampler=CrawsonHeunExtractor', s_churn='s_churn=40.0'\n",
      "\n",
      "SI-SNR 1:\t\t\t 17.385263442993164\n",
      "SI-SNR 2:\t\t\t 19.11650848388672\n",
      "sep1:\t\t\t\t 18.36622428894043\n",
      "sep2:\t\t\t\t 18.997896194458008\n",
      "m - sep1:\t\t\t 17.92633628845215\n",
      "m - sep2:\t\t\t 19.35613441467285\n",
      "norm 1:\t\t\t 18.36622428894043\n",
      "norm 2:\t\t\t 18.997896194458008\n",
      "m - sep1 and norm:\t\t 17.92633628845215\n",
      "m - sep2 and norm:\t\t 19.35613441467285\n",
      "norm and cons 1:\t\t 18.808677673339844\n",
      "norm and cons 2:\t\t 19.69641876220703\n",
      "m - sep1 and norm and cons: 18.678466796875\n",
      "m - sep1 and norm and cons: 19.692054748535156\n",
      "\n",
      "SDR mean:\t\t\t 18.682058334350586\n",
      "\n",
      "---------------------------------\n",
      "sampler='slack_sampler=CrawsonEulerSeparatorBASIS', s_churn='s_churn=40.0'\n",
      "\n",
      "SI-SNR 1:\t\t\t 2.414673328399658\n",
      "SI-SNR 2:\t\t\t 6.039514541625977\n",
      "sep1:\t\t\t\t 2.616638422012329\n",
      "sep2:\t\t\t\t 6.178821563720703\n",
      "m - sep1:\t\t\t 2.6032447814941406\n",
      "m - sep2:\t\t\t 6.188559055328369\n",
      "norm 1:\t\t\t 2.616638422012329\n",
      "norm 2:\t\t\t 6.178821563720703\n",
      "m - sep1 and norm:\t\t 2.6032447814941406\n",
      "m - sep2 and norm:\t\t 6.188559055328369\n",
      "norm and cons 1:\t\t 2.6136276721954346\n",
      "norm and cons 2:\t\t 6.184647083282471\n",
      "m - sep1 and norm and cons: 2.606562376022339\n",
      "m - sep1 and norm and cons: 6.183788299560547\n",
      "\n",
      "SDR mean:\t\t\t 4.397729873657227\n",
      "\n",
      "---------------------------------\n",
      "sampler='slack_sampler=CrawsonEulerExtractor', s_churn='s_churn=20.0'\n",
      "\n",
      "SI-SNR 1:\t\t\t 18.720108032226562\n",
      "SI-SNR 2:\t\t\t 20.67641258239746\n",
      "sep1:\t\t\t\t 18.960718154907227\n",
      "sep2:\t\t\t\t 20.15569305419922\n",
      "m - sep1:\t\t\t 18.852834701538086\n",
      "m - sep2:\t\t\t 20.268526077270508\n",
      "norm 1:\t\t\t 18.960718154907227\n",
      "norm 2:\t\t\t 20.15569305419922\n",
      "m - sep1 and norm:\t\t 18.852834701538086\n",
      "m - sep2 and norm:\t\t 20.268526077270508\n",
      "norm and cons 1:\t\t 19.507579803466797\n",
      "norm and cons 2:\t\t 20.80520248413086\n",
      "m - sep1 and norm and cons: 19.556169509887695\n",
      "m - sep1 and norm and cons: 20.846942901611328\n",
      "\n",
      "SDR mean:\t\t\t 19.558204650878906\n",
      "\n",
      "---------------------------------\n",
      "sampler='slack_sampler=CrawsonHeunExtractor', s_churn='s_churn=1.0'\n",
      "\n",
      "SI-SNR 1:\t\t\t 14.555079460144043\n",
      "SI-SNR 2:\t\t\t 16.342967987060547\n",
      "sep1:\t\t\t\t 15.804593086242676\n",
      "sep2:\t\t\t\t 16.618701934814453\n",
      "m - sep1:\t\t\t 15.511528968811035\n",
      "m - sep2:\t\t\t 16.904979705810547\n",
      "norm 1:\t\t\t 15.804593086242676\n",
      "norm 2:\t\t\t 16.618701934814453\n",
      "m - sep1 and norm:\t\t 15.511528968811035\n",
      "m - sep2 and norm:\t\t 16.904979705810547\n",
      "norm and cons 1:\t\t 16.075305938720703\n",
      "norm and cons 2:\t\t 17.2124080657959\n",
      "m - sep1 and norm and cons: 15.960362434387207\n",
      "m - sep1 and norm and cons: 17.103713989257812\n",
      "\n",
      "SDR mean:\t\t\t 16.211647033691406\n",
      "\n",
      "---------------------------------\n",
      "sampler='slack_sampler=CrawsonEulerSeparatorBASIS', s_churn='s_churn=20.0'\n",
      "\n",
      "SI-SNR 1:\t\t\t 3.628206253051758\n",
      "SI-SNR 2:\t\t\t 6.609891414642334\n",
      "sep1:\t\t\t\t 4.088644027709961\n",
      "sep2:\t\t\t\t 6.7394256591796875\n",
      "m - sep1:\t\t\t 4.077217102050781\n",
      "m - sep2:\t\t\t 6.743597507476807\n",
      "norm 1:\t\t\t 4.088644027709961\n",
      "norm 2:\t\t\t 6.7394256591796875\n",
      "m - sep1 and norm:\t\t 4.077217102050781\n",
      "m - sep2 and norm:\t\t 6.743597507476807\n",
      "norm and cons 1:\t\t 4.085701942443848\n",
      "norm and cons 2:\t\t 6.744255065917969\n",
      "m - sep1 and norm and cons: 4.0808587074279785\n",
      "m - sep1 and norm and cons: 6.739124298095703\n",
      "\n",
      "SDR mean:\t\t\t 5.414034366607666\n",
      "\n",
      "---------------------------------\n",
      "sampler='slack_sampler=CrawsonEulerSeparatorBASIS', s_churn='s_churn=1.0'\n",
      "\n",
      "SI-SNR 1:\t\t\t 2.49969220161438\n",
      "SI-SNR 2:\t\t\t 6.380012512207031\n",
      "sep1:\t\t\t\t 2.608473539352417\n",
      "sep2:\t\t\t\t 6.304619789123535\n",
      "m - sep1:\t\t\t 2.607348918914795\n",
      "m - sep2:\t\t\t 6.308101654052734\n",
      "norm 1:\t\t\t 2.608473539352417\n",
      "norm 2:\t\t\t 6.304619789123535\n",
      "m - sep1 and norm:\t\t 2.607348918914795\n",
      "m - sep2 and norm:\t\t 6.308101654052734\n",
      "norm and cons 1:\t\t 2.6094062328338623\n",
      "norm and cons 2:\t\t 6.305919170379639\n",
      "m - sep1 and norm and cons: 2.6065611839294434\n",
      "m - sep1 and norm and cons: 6.306997299194336\n",
      "\n",
      "SDR mean:\t\t\t 4.456546783447266\n",
      "\n",
      "---------------------------------\n",
      "sampler='slack_sampler=CrawsonHeunSeparatorBASIS', s_churn='s_churn=1.0'\n",
      "\n",
      "SI-SNR 1:\t\t\t 3.606667995452881\n",
      "SI-SNR 2:\t\t\t 7.306708335876465\n",
      "sep1:\t\t\t\t 3.756089210510254\n",
      "sep2:\t\t\t\t 7.233986854553223\n",
      "m - sep1:\t\t\t 3.7558987140655518\n",
      "m - sep2:\t\t\t 7.233965873718262\n",
      "norm 1:\t\t\t 3.756089210510254\n",
      "norm 2:\t\t\t 7.233986854553223\n",
      "m - sep1 and norm:\t\t 3.7558987140655518\n",
      "m - sep2 and norm:\t\t 7.233965873718262\n",
      "norm and cons 1:\t\t 3.756213903427124\n",
      "norm and cons 2:\t\t 7.2338995933532715\n",
      "m - sep1 and norm and cons: 3.7557857036590576\n",
      "m - sep1 and norm and cons: 7.234077453613281\n",
      "\n",
      "SDR mean:\t\t\t 5.4950385093688965\n",
      "\n",
      "---------------------------------\n",
      "sampler='slack_sampler=CrawsonHeunExtractor', s_churn='s_churn=20.0'\n",
      "\n",
      "SI-SNR 1:\t\t\t 17.100961685180664\n",
      "SI-SNR 2:\t\t\t 19.96865463256836\n",
      "sep1:\t\t\t\t 18.20900535583496\n",
      "sep2:\t\t\t\t 19.93754768371582\n",
      "m - sep1:\t\t\t 18.967819213867188\n",
      "m - sep2:\t\t\t 19.128835678100586\n",
      "norm 1:\t\t\t 18.20900535583496\n",
      "norm 2:\t\t\t 19.93754768371582\n",
      "m - sep1 and norm:\t\t 18.967819213867188\n",
      "m - sep2 and norm:\t\t 19.128835678100586\n",
      "norm and cons 1:\t\t 18.853485107421875\n",
      "norm and cons 2:\t\t 19.745410919189453\n",
      "m - sep1 and norm and cons: 19.128662109375\n",
      "m - sep1 and norm and cons: 20.018001556396484\n",
      "\n",
      "SDR mean:\t\t\t 19.07327651977539\n",
      "\n",
      "---------------------------------\n",
      "sampler='slack_sampler=CrawsonHeunSeparatorBASIS', s_churn='s_churn=40.0'\n",
      "\n",
      "SI-SNR 1:\t\t\t 7.083801746368408\n",
      "SI-SNR 2:\t\t\t 9.802444458007812\n",
      "sep1:\t\t\t\t 7.442180633544922\n",
      "sep2:\t\t\t\t 9.943354606628418\n",
      "m - sep1:\t\t\t 7.431607723236084\n",
      "m - sep2:\t\t\t 9.949980735778809\n",
      "norm 1:\t\t\t 7.442180633544922\n",
      "norm 2:\t\t\t 9.943354606628418\n",
      "m - sep1 and norm:\t\t 7.431607723236084\n",
      "m - sep2 and norm:\t\t 9.949980735778809\n",
      "norm and cons 1:\t\t 7.439582347869873\n",
      "norm and cons 2:\t\t 9.947715759277344\n",
      "m - sep1 and norm and cons: 7.43463659286499\n",
      "m - sep1 and norm and cons: 9.94609546661377\n",
      "\n",
      "SDR mean:\t\t\t 8.692768096923828\n",
      "\n",
      "---------------------------------\n",
      "sampler='slack_sampler=CrawsonHeunSeparatorBASIS', s_churn='s_churn=20.0'\n",
      "\n",
      "SI-SNR 1:\t\t\t 6.440854549407959\n",
      "SI-SNR 2:\t\t\t 9.024702072143555\n",
      "sep1:\t\t\t\t 7.0722761154174805\n",
      "sep2:\t\t\t\t 9.191282272338867\n",
      "m - sep1:\t\t\t 7.0654296875\n",
      "m - sep2:\t\t\t 9.195131301879883\n",
      "norm 1:\t\t\t 7.0722761154174805\n",
      "norm 2:\t\t\t 9.191282272338867\n",
      "m - sep1 and norm:\t\t 7.0654296875\n",
      "m - sep2 and norm:\t\t 9.195131301879883\n",
      "norm and cons 1:\t\t 7.070598125457764\n",
      "norm and cons 2:\t\t 9.194198608398438\n",
      "m - sep1 and norm and cons: 7.067343235015869\n",
      "m - sep1 and norm and cons: 9.192350387573242\n",
      "\n",
      "SDR mean:\t\t\t 8.131779670715332\n",
      "\n",
      "---------------------------------\n",
      "sampler='slack_sampler=CrawsonEulerExtractor', s_churn='s_churn=40.0'\n",
      "\n",
      "SI-SNR 1:\t\t\t 19.390775680541992\n",
      "SI-SNR 2:\t\t\t 21.60581398010254\n",
      "sep1:\t\t\t\t 19.487396240234375\n",
      "sep2:\t\t\t\t 20.74496078491211\n",
      "m - sep1:\t\t\t 19.255678176879883\n",
      "m - sep2:\t\t\t 20.73358726501465\n",
      "norm 1:\t\t\t 19.487396240234375\n",
      "norm 2:\t\t\t 20.74496078491211\n",
      "m - sep1 and norm:\t\t 19.255678176879883\n",
      "m - sep2 and norm:\t\t 20.73358726501465\n",
      "norm and cons 1:\t\t 19.994070053100586\n",
      "norm and cons 2:\t\t 21.33371925354004\n",
      "m - sep1 and norm and cons: 19.752643585205078\n",
      "m - sep1 and norm and cons: 21.07245445251465\n",
      "\n",
      "SDR mean:\t\t\t 20.11617660522461\n"
     ]
    }
   ],
   "source": [
    "for path in Path(\"../logs/experiments_results/\").glob(\"*slack*Crawson*\"):\n",
    "    print(\"\\n---------------------------------\")\n",
    "    sampler, s_churn = path.name.split(\"-\")\n",
    "    print(f\"{sampler=}, {s_churn=}\\n\")\n",
    "    evaluate_data(path)"
   ]
  },
  {
   "cell_type": "code",
   "execution_count": 65,
   "id": "bbe544ea",
   "metadata": {
    "pycharm": {
     "name": "#%%\n"
    }
   },
   "outputs": [
    {
     "name": "stdout",
     "output_type": "stream",
     "text": [
      "\n",
      "---------------------------------\n",
      "sampler=['slack_sampler=ADPM2Extractor']\n",
      "\n",
      "SI-SNR 1:\t\t\t 17.306184768676758\n",
      "SI-SNR 2:\t\t\t 19.575225830078125\n",
      "sep1:\t\t\t\t 18.172866821289062\n",
      "sep2:\t\t\t\t 19.516815185546875\n",
      "m - sep1:\t\t\t 18.29353141784668\n",
      "m - sep2:\t\t\t 19.33782196044922\n",
      "norm 1:\t\t\t 18.172866821289062\n",
      "norm 2:\t\t\t 19.516815185546875\n",
      "m - sep1 and norm:\t\t 18.29353141784668\n",
      "m - sep2 and norm:\t\t 19.33782196044922\n",
      "norm and cons 1:\t\t 18.95686149597168\n",
      "norm and cons 2:\t\t 20.05926513671875\n",
      "m - sep1 and norm and cons: 19.131887435913086\n",
      "m - sep1 and norm and cons: 20.180545806884766\n",
      "\n",
      "SDR mean:\t\t\t 18.8448429107666\n",
      "\n",
      "---------------------------------\n",
      "sampler=['slack_sampler=ADPM2Separator']\n",
      "\n",
      "SI-SNR 1:\t\t\t 7.145374774932861\n",
      "SI-SNR 2:\t\t\t 10.345344543457031\n",
      "sep1:\t\t\t\t 7.5242133140563965\n",
      "sep2:\t\t\t\t 10.519533157348633\n",
      "m - sep1:\t\t\t 7.520732879638672\n",
      "m - sep2:\t\t\t 10.522429466247559\n",
      "norm 1:\t\t\t 7.5242133140563965\n",
      "norm 2:\t\t\t 10.519533157348633\n",
      "m - sep1 and norm:\t\t 7.520732879638672\n",
      "m - sep2 and norm:\t\t 10.522429466247559\n",
      "norm and cons 1:\t\t 7.523318767547607\n",
      "norm and cons 2:\t\t 10.52135181427002\n",
      "m - sep1 and norm and cons: 7.521758079528809\n",
      "m - sep1 and norm and cons: 10.520848274230957\n",
      "\n",
      "SDR mean:\t\t\t 9.02187442779541\n"
     ]
    }
   ],
   "source": [
    "for path in Path(\"../logs/experiments_results/\").glob(\"*slack*ADPM*\"):\n",
    "    print(\"\\n---------------------------------\")\n",
    "    sampler = path.name.split(\"-\")\n",
    "    print(f\"{sampler=}\\n\")\n",
    "    evaluate_data(path)"
   ]
  },
  {
   "cell_type": "code",
   "execution_count": 6,
   "id": "09511f7d",
   "metadata": {
    "pycharm": {
     "name": "#%%\n"
    }
   },
   "outputs": [
    {
     "name": "stdout",
     "output_type": "stream",
     "text": [
      "\n",
      "---------------------------------\n",
      "sigma-min=0.0001 sigma-max=20.0, rho=7.0\n",
      "\n",
      "3.6207435131073\n",
      "\n",
      "---------------------------------\n",
      "sigma-min=0.1 sigma-max=1.0, rho=5.0\n",
      "\n",
      "0.7884336113929749\n",
      "\n",
      "---------------------------------\n",
      "sigma-min=0.0001 sigma-max=1.0, rho=7.0\n",
      "\n",
      "2.2821261882781982\n",
      "\n",
      "---------------------------------\n",
      "sigma-min=0.1 sigma-max=20.0, rho=5.0\n",
      "\n",
      "1.1403182744979858\n",
      "\n",
      "---------------------------------\n",
      "sigma-min=0.05 sigma-max=1.0, rho=5.0\n",
      "\n",
      "1.603183388710022\n",
      "\n",
      "---------------------------------\n",
      "sigma-min=0.1 sigma-max=5.0, rho=5.0\n",
      "\n",
      "1.4022505283355713\n",
      "\n",
      "---------------------------------\n",
      "sigma-min=0.05 sigma-max=1.0, rho=9.0\n",
      "\n",
      "1.6622364521026611\n",
      "\n",
      "---------------------------------\n",
      "sigma-min=0.0001 sigma-max=5.0, rho=5.0\n",
      "\n",
      "3.4981727600097656\n",
      "\n",
      "---------------------------------\n",
      "sigma-min=0.1 sigma-max=20.0, rho=9.0\n",
      "\n",
      "1.1558301448822021\n",
      "\n",
      "---------------------------------\n",
      "sigma-min=0.0001 sigma-max=5.0, rho=9.0\n",
      "\n",
      "3.479304075241089\n",
      "\n",
      "---------------------------------\n",
      "sigma-min=0.1 sigma-max=5.0, rho=7.0\n",
      "\n",
      "1.3337764739990234\n",
      "\n",
      "---------------------------------\n",
      "sigma-min=0.1 sigma-max=1.0, rho=7.0\n",
      "\n",
      "0.7646510004997253\n",
      "\n",
      "---------------------------------\n",
      "sigma-min=0.05 sigma-max=20.0, rho=5.0\n",
      "\n",
      "2.4470889568328857\n",
      "\n",
      "---------------------------------\n",
      "sigma-min=0.05 sigma-max=5.0, rho=7.0\n",
      "\n",
      "2.6265439987182617\n",
      "\n",
      "---------------------------------\n",
      "sigma-min=0.05 sigma-max=5.0, rho=5.0\n",
      "\n",
      "2.6532537937164307\n",
      "\n",
      "---------------------------------\n",
      "sigma-min=0.0001 sigma-max=5.0, rho=7.0\n",
      "\n",
      "3.2214584350585938\n",
      "\n",
      "---------------------------------\n",
      "sigma-min=0.0001 sigma-max=1.0, rho=5.0\n",
      "\n",
      "2.1000473499298096\n",
      "\n",
      "---------------------------------\n",
      "sigma-min=0.0001 sigma-max=1.0, rho=9.0\n",
      "\n",
      "2.1674132347106934\n",
      "\n",
      "---------------------------------\n",
      "sigma-min=0.1 sigma-max=1.0, rho=9.0\n",
      "\n",
      "0.8284698724746704\n",
      "\n",
      "---------------------------------\n",
      "sigma-min=0.1 sigma-max=20.0, rho=7.0\n",
      "\n",
      "0.9113054275512695\n",
      "\n",
      "---------------------------------\n",
      "sigma-min=0.1 sigma-max=5.0, rho=9.0\n",
      "\n",
      "1.2568233013153076\n",
      "\n",
      "---------------------------------\n",
      "sigma-min=0.05 sigma-max=20.0, rho=7.0\n",
      "\n",
      "2.1761186122894287\n",
      "\n",
      "---------------------------------\n",
      "sigma-min=0.05 sigma-max=20.0, rho=9.0\n",
      "\n",
      "2.6541993618011475\n",
      "\n",
      "---------------------------------\n",
      "sigma-min=0.05 sigma-max=1.0, rho=7.0\n",
      "\n",
      "1.6589710712432861\n",
      "\n",
      "---------------------------------\n",
      "sigma-min=0.0001 sigma-max=20.0, rho=9.0\n",
      "\n",
      "3.5128140449523926\n",
      "\n",
      "---------------------------------\n",
      "sigma-min=0.05 sigma-max=5.0, rho=9.0\n",
      "\n",
      "2.695711851119995\n",
      "\n",
      "---------------------------------\n",
      "sigma-min=0.0001 sigma-max=20.0, rho=5.0\n",
      "\n",
      "3.2553164958953857\n"
     ]
    }
   ],
   "source": [
    "for path in Path(\"grid-search-schedule/\").glob(\"*\"):\n",
    "    print(\"\\n---------------------------------\")\n",
    "    smin, smax, rho = path.name.split(\"-\")\n",
    "    print(f\"sigma-min={smin} sigma-max={smax}, rho={rho}\\n\")\n",
    "    results = evaluate_data(path)\n",
    "    print(results[\"sdr\"])\n",
    "    "
   ]
  },
  {
   "cell_type": "code",
   "execution_count": 25,
   "id": "ba4f3394",
   "metadata": {
    "pycharm": {
     "name": "#%%\n"
    }
   },
   "outputs": [
    {
     "name": "stderr",
     "output_type": "stream",
     "text": [
      "100%|██████████| 48/48 [00:00<00:00, 147.30it/s]\n"
     ]
    },
    {
     "name": "stdout",
     "output_type": "stream",
     "text": [
      "[00]: \t(0.7027) \t(1.0000)\t bass=-1.833\t drums=6.1318\n",
      "[01]: \t(0.6571) \t(1.0000)\t bass=4.425\t drums=2.1312\n",
      "[02]: \t(0.6682) \t(1.0000)\t bass=1.939\t drums=3.7263\n",
      "[03]: \t(0.5316) \t(1.0000)\t bass=7.625\t drums=2.7491\n",
      "[04]: \t(0.4069) \t(1.0000)\t bass=3.983\t drums=4.8827\n",
      "[05]: \t(0.1375) \t(0.4310)\t bass=0.931\t drums=6.1348\n",
      "[06]: \t(0.4774) \t(1.0000)\t bass=0.663\t drums=6.8117\n",
      "[07]: \t(0.5299) \t(1.0000)\t bass=3.077\t drums=6.5311\n",
      "[08]: \t(0.3761) \t(0.8795)\t bass=1.650\t drums=5.5166\n",
      "[09]: \t(0.3382) \t(1.0000)\t bass=-1.004\t drums=7.4564\n",
      "[10]: \t(0.2447) \t(1.0000)\t bass=-2.237\t drums=5.7632\n",
      "[11]: \t(0.7815) \t(1.0000)\t bass=-1.355\t drums=5.9645\n",
      "[12]: \t(0.3378) \t(0.9728)\t bass=-4.939\t drums=6.4330\n",
      "[14]: \t(0.4099) \t(1.0000)\t bass=0.986\t drums=4.3455\n",
      "[15]: \t(0.1440) \t(0.6007)\t bass=-20.446\t drums=7.9618\n",
      "[16]: \t(0.4570) \t(0.9467)\t bass=8.674\t drums=7.6329\n",
      "[17]: \t(0.4325) \t(0.9502)\t bass=-0.954\t drums=5.7250\n",
      "[18]: \t(0.6845) \t(1.0000)\t bass=0.459\t drums=6.0074\n",
      "[19]: \t(0.4694) \t(0.8108)\t bass=7.217\t drums=7.2800\n",
      "[20]: \t(0.3696) \t(0.4132)\t bass=8.242\t drums=3.3387\n",
      "[22]: \t(0.5873) \t(1.0000)\t bass=3.601\t drums=5.2792\n",
      "[23]: \t(0.2941) \t(0.0004)\t bass=12.045\t drums=-52.1650\n",
      "[24]: \t(0.0003) \t(1.0000)\t bass=-51.757\t drums=5.9705\n",
      "[25]: \t(0.5641) \t(0.2286)\t bass=8.755\t drums=-8.9301\n",
      "[26]: \t(0.6299) \t(1.0000)\t bass=2.162\t drums=4.9619\n",
      "[27]: \t(0.3074) \t(0.9905)\t bass=8.976\t drums=5.4083\n",
      "[29]: \t(0.3066) \t(0.9037)\t bass=2.969\t drums=4.9557\n",
      "[30]: \t(0.4132) \t(0.9594)\t bass=5.504\t drums=7.8265\n",
      "[32]: \t(0.4647) \t(1.0000)\t bass=3.148\t drums=5.1965\n",
      "[33]: \t(0.7659) \t(0.8145)\t bass=4.456\t drums=2.1575\n",
      "[35]: \t(0.2344) \t(1.0000)\t bass=-5.122\t drums=6.1392\n",
      "[36]: \t(0.2984) \t(0.8456)\t bass=-0.367\t drums=6.4583\n",
      "[37]: \t(0.1572) \t(0.3962)\t bass=2.888\t drums=7.5790\n",
      "[38]: \t(0.4955) \t(1.0000)\t bass=8.178\t drums=7.4582\n",
      "[39]: \t(0.3700) \t(0.8533)\t bass=5.317\t drums=9.0863\n",
      "[40]: \t(0.4488) \t(0.0010)\t bass=11.989\t drums=-42.9035\n",
      "[41]: \t(0.5212) \t(0.9899)\t bass=5.741\t drums=1.7679\n",
      "[43]: \t(0.8163) \t(1.0000)\t bass=2.693\t drums=1.8799\n",
      "[44]: \t(0.4289) \t(0.9773)\t bass=6.304\t drums=4.7285\n",
      "[45]: \t(0.3455) \t(0.8323)\t bass=6.293\t drums=3.5751\n",
      "[46]: \t(0.3726) \t(0.6042)\t bass=3.513\t drums=4.8818\n",
      "[47]: \t(0.5349) \t(0.9420)\t bass=1.503\t drums=3.8619\n",
      "tensor(1.5689) tensor(2.5642)\n",
      "tensor(2.0665)\n"
     ]
    }
   ],
   "source": [
    "#!tar czf \"sep.tar.xz\"  \"separations-musdb-irene-2/\"\n",
    "\n",
    "from pathlib import Path\n",
    "import torchaudio\n",
    "import tqdm\n",
    "from main.separation import enforce_mixture_consistency\n",
    "\n",
    "def load_separation_data(separation_path):\n",
    "    separation_folder = Path(separation_path)\n",
    "    seps1, seps2, oris1, oris2, ms = [], [], [], [], []\n",
    "    chunks = []\n",
    "    \n",
    "    for chunk_folder in tqdm.tqdm(list(separation_folder.glob(\"*\"))):\n",
    "        original_tracks = [torchaudio.load(ori) for ori in sorted(list(chunk_folder.glob(\"ori*.wav\")))]\n",
    "        separated_tracks = [torchaudio.load(sep) for sep in sorted(list(chunk_folder.glob(\"sep*.wav\")))]\n",
    "\n",
    "        original_tracks, sample_rates_ori = zip(*original_tracks)\n",
    "        separated_tracks, sample_rates_sep = zip(*separated_tracks)\n",
    "\n",
    "        assert len({*sample_rates_ori, *sample_rates_sep}) == 1\n",
    "        sample_rate = sample_rates_ori[0]\n",
    "\n",
    "        assert len(original_tracks) == len(separated_tracks)\n",
    "        assert len(original_tracks) == 2\n",
    "        ori1, ori2 = original_tracks\n",
    "        sep1, sep2 = separated_tracks\n",
    "\n",
    "        m = ori1 + ori2\n",
    "\n",
    "        #if torch.amax(torch.abs(ori1)) < 1e-3 or torch.amax(torch.abs(ori2)) < 1e-3:\n",
    "        #    continue\n",
    "        \n",
    "        chunks.append(int(chunk_folder.name))\n",
    "        seps1.append(sep1)\n",
    "        seps2.append(sep2)\n",
    "        oris1.append(ori1)\n",
    "        oris2.append(ori2)\n",
    "        ms.append(m)\n",
    "\n",
    "    seps1 = torch.stack(seps1, dim=0)\n",
    "    seps2 = torch.stack(seps2, dim=0)\n",
    "    seps = torch.stack([seps1, seps2], dim=1)\n",
    "\n",
    "    oris1 = torch.stack(oris1, dim=0)\n",
    "    oris2 = torch.stack(oris2, dim=0)\n",
    "    oris = torch.stack([oris1, oris2], dim=1)\n",
    "\n",
    "    ms = torch.stack(ms, dim=0)\n",
    "    return [seps1,seps2], [oris1,oris2], ms, chunks\n",
    "\n",
    "def sdr(preds, targets):\n",
    "    preds = preds.cpu()\n",
    "    targets = targets.cpu()\n",
    "\n",
    "    signal = torch.norm(targets) ** 2\n",
    "    e_error = torch.norm(preds - targets) ** 2\n",
    "    return 10 * torch.log10( signal/e_error )\n",
    "\n",
    "\n",
    "(seps1,seps2),(oris1, oris2), ms, chunks = load_separation_data(\"separations-musdb-dpm2\")\n",
    "\n",
    "tmp = list(zip(chunks, seps1,seps2,oris1,oris2, ms))\n",
    "tmp = sorted(tmp, key=lambda x:x[0])\n",
    "\n",
    "bass_sdrs, drums_sdrs = [], []\n",
    "\n",
    "\n",
    "def is_non_zero(source_waveforms):\n",
    "  \"\"\"Return shape (source,) weights for signals that are nonzero.\"\"\"\n",
    "  source_norms = torch.sqrt(torch.mean(source_waveforms**2, axis=-1))\n",
    "  return source_norms > 1e-8\n",
    "\n",
    "for (chunk,s1,s2,o1,o2,m) in tmp:\n",
    "    #if torch.amax(torch.abs(o1)) < 1e-3 or torch.amax(torch.abs(o2)) < 1e-3:\n",
    "    #    continue\n",
    "    \n",
    "    if not is_non_zero(o1) or not is_non_zero(o2):\n",
    "        continue\n",
    "        \n",
    "    s1,s2 = enforce_mixture_consistency(m, torch.stack([s1.view(1,1,-1), s2.view(1,1,-1)], dim=1))\n",
    "    print(f\"[{chunk:02d}]: \\t({torch.amax(torch.abs(o1)):.4f}) \\t({torch.amax(torch.abs(o2)):.4f})\\t bass={sdr(s1,o1):.3f}\\t drums={sdr(s2,o2):.4f}\")\n",
    "    bass_sdrs.append(sdr(s1,o1))\n",
    "    drums_sdrs.append(sdr(s2,o2))\n",
    "\n",
    "sdr1 = sum(bass_sdrs)/len(bass_sdrs)\n",
    "sdr2 = sum(drums_sdrs)/len(drums_sdrs)\n",
    "print(sdr1, sdr2)\n",
    "print((sdr1+sdr2)*0.5)\n"
   ]
  },
  {
   "cell_type": "code",
   "execution_count": 2,
   "id": "62f6315c",
   "metadata": {
    "pycharm": {
     "name": "#%%\n"
    }
   },
   "outputs": [
    {
     "name": "stderr",
     "output_type": "stream",
     "text": [
      "100%|██████████| 48/48 [00:00<00:00, 124.57it/s]\n"
     ]
    },
    {
     "name": "stdout",
     "output_type": "stream",
     "text": [
      "SI-SDR piano:  0.47045114636421204\n",
      "SI-SDR basso:  3.94543194770813\n",
      "SI-SDRi piano:  3.2123315632343292\n",
      "SI-SDRi basso:  1.348285436630249\n",
      "\n",
      "SI-SNR piano:  0.471749871969223\n",
      "SI-SNR basso:  3.9458775520324707\n",
      "SI-SNRi piano:  3.21295365691185\n",
      "SI-SNRi basso:  1.3492193222045898\n",
      "\n",
      "SDR mean:  3.3860299489753944\n",
      "3.6767312666719043e-10\n",
      "SDRi mean:  3.3860299486077214\n"
     ]
    }
   ],
   "source": [
    "evaluate_data(\"separations-musdb-dpm2\")"
   ]
  },
  {
   "cell_type": "markdown",
   "id": "15e734d6",
   "metadata": {
    "pycharm": {
     "name": "#%% md\n"
    }
   },
   "source": [
    "## Compute separation metrics"
   ]
  },
  {
   "cell_type": "code",
   "execution_count": 3,
   "id": "7a8acaac",
   "metadata": {
    "pycharm": {
     "name": "#%%\n"
    }
   },
   "outputs": [],
   "source": [
    "import torchmetrics.functional.audio as tma\n",
    "from pathlib import Path\n",
    "import torchaudio\n",
    "import torch\n",
    "import tqdm\n",
    "from main.separation import enforce_mixture_consistency\n",
    "\n",
    "\n",
    "def si_snr(preds, target):\n",
    "    return tma.scale_invariant_signal_noise_ratio(preds=preds.cpu(), target=target.cpu()).mean().item()\n",
    "\n",
    "def si_sdr(preds, target):\n",
    "    return tma.scale_invariant_signal_distortion_ratio(preds=preds.cpu(), target=target.cpu()).mean().item()\n",
    "\n",
    "def sdr(preds, target):\n",
    "    return tma.signal_distortion_ratio(preds=preds.cpu(), target=target.cpu()).mean().item()"
   ]
  },
  {
   "cell_type": "code",
   "execution_count": 4,
   "id": "5712bd20",
   "metadata": {
    "pycharm": {
     "name": "#%%\n"
    }
   },
   "outputs": [
    {
     "name": "stderr",
     "output_type": "stream",
     "text": [
      "0it [00:00, ?it/s]\n"
     ]
    },
    {
     "ename": "RuntimeError",
     "evalue": "torch.cat(): expected a non-empty list of Tensors",
     "output_type": "error",
     "traceback": [
      "\u001b[0;31m---------------------------------------------------------------------------\u001b[0m",
      "\u001b[0;31mRuntimeError\u001b[0m                              Traceback (most recent call last)",
      "Cell \u001b[0;32mIn[4], line 20\u001b[0m\n\u001b[1;32m     17\u001b[0m     oris2\u001b[38;5;241m.\u001b[39mappend(ori2)\n\u001b[1;32m     18\u001b[0m     ms\u001b[38;5;241m.\u001b[39mappend(m)\n\u001b[0;32m---> 20\u001b[0m seps1 \u001b[38;5;241m=\u001b[39m \u001b[43mtorch\u001b[49m\u001b[38;5;241;43m.\u001b[39;49m\u001b[43mcat\u001b[49m\u001b[43m(\u001b[49m\u001b[43mseps1\u001b[49m\u001b[43m,\u001b[49m\u001b[43m \u001b[49m\u001b[43mdim\u001b[49m\u001b[38;5;241;43m=\u001b[39;49m\u001b[38;5;241;43m0\u001b[39;49m\u001b[43m)\u001b[49m\n\u001b[1;32m     21\u001b[0m seps2 \u001b[38;5;241m=\u001b[39m torch\u001b[38;5;241m.\u001b[39mcat(seps2, dim\u001b[38;5;241m=\u001b[39m\u001b[38;5;241m0\u001b[39m)\n\u001b[1;32m     22\u001b[0m oris1 \u001b[38;5;241m=\u001b[39m torch\u001b[38;5;241m.\u001b[39mcat(oris1, dim\u001b[38;5;241m=\u001b[39m\u001b[38;5;241m0\u001b[39m)\n",
      "\u001b[0;31mRuntimeError\u001b[0m: torch.cat(): expected a non-empty list of Tensors"
     ]
    }
   ],
   "source": [
    "separation_folder = Path(\"separations\")\n",
    "\n",
    "seps1, seps2, oris1, oris2, ms = [], [], [], [], []\n",
    "for file in tqdm.autonotebook.tqdm(list(separation_folder.glob(\"*\"))):\n",
    "    ori1, _ = torchaudio.load(file / \"ori1.wav\")\n",
    "    ori2, _ = torchaudio.load(file / \"ori2.wav\")\n",
    "    sep1, _ = torchaudio.load(file / \"sep1.wav\")\n",
    "    sep2, _ = torchaudio.load(file / \"sep2.wav\")\n",
    "    m = ori1 + ori2\n",
    "    \n",
    "    if torch.amax(torch.abs(ori1 - m)) < 1e-5 or torch.amax(torch.abs(ori2 - m)) < 1e-5:\n",
    "        continue\n",
    "    \n",
    "    seps1.append(sep1)\n",
    "    seps2.append(sep2)\n",
    "    oris1.append(ori1) \n",
    "    oris2.append(ori2)\n",
    "    ms.append(m)\n",
    "\n",
    "seps1 = torch.cat(seps1, dim=0)\n",
    "seps2 = torch.cat(seps2, dim=0)\n",
    "oris1 = torch.cat(oris1, dim=0)\n",
    "oris2 = torch.cat(oris2, dim=0)\n",
    "ms = torch.cat(ms, dim=0)\n",
    "\n",
    "print(\"SI-SDR piano: \",si_sdr(seps1, oris1))\n",
    "print(\"SI-SDR basso: \",si_sdr(seps2, oris2))\n",
    "print(\"SI-SDRi piano: \", si_sdr(seps1, oris1) - si_sdr(ms, oris1))\n",
    "print(\"SI-SDRi basso: \", si_sdr(seps2, oris2) - si_sdr(ms, oris2))\n",
    "print()\n",
    "print(\"SI-SNR piano: \", si_snr(seps1, oris1))\n",
    "print(\"SI-SNR basso: \", si_snr(seps2, oris2))\n",
    "print(\"SI-SNRi piano: \", si_snr(seps1, oris1) - si_snr(ms, oris1))\n",
    "print(\"SI-SNRi basso: \", si_snr(seps2, oris2) - si_snr(ms, oris2))\n",
    "print()\n",
    "print(\"SDR piano: \",sdr(seps1, oris1))\n",
    "print(\"SDR basso: \",sdr(seps2, oris2))\n",
    "print(\"SDRi piano: \",sdr(seps1, oris1) - sdr(ms, oris1) )\n",
    "print(\"SDRi basso: \",sdr(seps2, oris2) - sdr(ms, oris2) )\n",
    "\n",
    "#print(f\"SI-SNRi (1): {si_snri_1/count}\")\n",
    "#print(f\"SI-SNRi (2): {si_snri_2/count}\")\n",
    "#    print(f\"SI-SNR (mix): {si_snr(sep1+sep2, m)}\\n\")\n",
    "    \n",
    "    \n",
    "    \n"
   ]
  },
  {
   "cell_type": "code",
   "execution_count": 15,
   "id": "8ae3868d",
   "metadata": {
    "pycharm": {
     "name": "#%%\n"
    }
   },
   "outputs": [
    {
     "name": "stdout",
     "output_type": "stream",
     "text": [
      "\n",
      "---------------------------------\n",
      "sampler=sampler=CrawsonEulerSeparatorBASIS sigma-s_churn=s_churn=20.0\n",
      "\n",
      "SI-SNR 1:  1.4338979721069336\n",
      "SI-SNR 2:  2.268383741378784\n",
      "SI-SNRi 1:  1.5986348688602448\n",
      "SI-SNRi 2:  1.907227486371994\n",
      "SDR mean:  2.2187018394470215\n"
     ]
    },
    {
     "ename": "ValueError",
     "evalue": "not enough values to unpack (expected 2, got 1)",
     "output_type": "error",
     "traceback": [
      "\u001b[0;31m---------------------------------------------------------------------------\u001b[0m",
      "\u001b[0;31mValueError\u001b[0m                                Traceback (most recent call last)",
      "Cell \u001b[0;32mIn[15], line 16\u001b[0m\n\u001b[1;32m     14\u001b[0m sepa1m, sepa2m \u001b[38;5;241m=\u001b[39m enforce_mixture_consistency(mixture, sep\u001b[38;5;241m.\u001b[39munsqueeze(\u001b[38;5;241m0\u001b[39m))\n\u001b[1;32m     15\u001b[0m sepa1n, sepa2n \u001b[38;5;241m=\u001b[39m least_squares_normalization(sep[\u001b[38;5;241m0\u001b[39m], sep[\u001b[38;5;241m1\u001b[39m], mixture)\n\u001b[0;32m---> 16\u001b[0m sepa1, sepa2 \u001b[38;5;241m=\u001b[39m enforce_mixture_consistency(mixture, torch\u001b[38;5;241m.\u001b[39mstack([sepa1n, sepa2n], dim\u001b[38;5;241m=\u001b[39m\u001b[38;5;241m1\u001b[39m)\u001b[38;5;241m.\u001b[39munsqueeze(\u001b[38;5;241m0\u001b[39m))\n\u001b[1;32m     17\u001b[0m sepam \u001b[38;5;241m=\u001b[39m torch\u001b[38;5;241m.\u001b[39mstack([sepa1m, sepa2m], dim\u001b[38;5;241m=\u001b[39m\u001b[38;5;241m1\u001b[39m)\n\u001b[1;32m     18\u001b[0m sepan \u001b[38;5;241m=\u001b[39m torch\u001b[38;5;241m.\u001b[39mstack([sepa1n, sepa2n], dim\u001b[38;5;241m=\u001b[39m\u001b[38;5;241m1\u001b[39m)\n",
      "\u001b[0;31mValueError\u001b[0m: not enough values to unpack (expected 2, got 1)"
     ]
    }
   ],
   "source": [
    "from main.separation import least_squares_normalization\n",
    "\n",
    "sampling_rate = 22050\n",
    "for path in Path(\"../logs/experiments_results/\").glob(\"sampler=Crawson*/\"):\n",
    "    print(\"\\n---------------------------------\")\n",
    "    sampler, s_churn = path.name.split(\"-\")\n",
    "    print(f\"sampler={sampler} sigma-s_churn={s_churn}\\n\")\n",
    "    _, seps, oris = evaluate_data(path)\n",
    "    cons_seps = []\n",
    "    cons_seps_n = []\n",
    "    cons_seps_m = []\n",
    "    for i, (sep, ori) in enumerate(zip(seps, oris)):\n",
    "        mixture = ori.sum(dim=0, keepdims=True)\n",
    "        sepa1m, sepa2m = enforce_mixture_consistency(mixture, sep.unsqueeze(0))\n",
    "        sepa1n, sepa2n = least_squares_normalization(sep[0], sep[1], mixture)\n",
    "        sepa1, sepa2 = enforce_mixture_consistency(mixture, torch.stack([sepa1n, sepa2n], dim=1).unsqueeze(0))\n",
    "        sepam = torch.stack([sepa1m, sepa2m], dim=1)\n",
    "        sepan = torch.stack([sepa1n, sepa2n], dim=1)\n",
    "        sepa = torch.stack([sepa1, sepa2], dim=1)\n",
    "        cons_seps_m.append(sepam)\n",
    "        cons_seps_n.append(sepan)\n",
    "        cons_seps.append(sepa)\n",
    "        if i == 1:\n",
    "            break\n",
    "        #if i==0:\n",
    "        #    display(Audio(sepa1.reshape(1,-1), rate = sampling_rate))\n",
    "        #    display(Audio(sepa2.reshape(1,-1), rate = sampling_rate))\n",
    "        #    display(Audio(ori[0].reshape(1,-1), rate = sampling_rate))\n",
    "        #    display(Audio(ori[1].reshape(1,-1), rate = sampling_rate))\n",
    "    cons_seps_m = torch.stack(cons_seps_m).squeeze(1)\n",
    "    cons_seps_n = torch.stack(cons_seps_n).squeeze(1)\n",
    "    cons_seps = torch.stack(cons_seps).squeeze(1)\n",
    "    print(f\"SDR mixture cons: {sdr(cons_seps, oris)}\")\n",
    "    print(f\"SDR normalized: {sdr(cons_seps_n, oris)}\")\n",
    "    print(f\"SDR mixture cons and normalized: {sdr(cons_seps, oris)}\")"
   ]
  },
  {
   "cell_type": "code",
   "execution_count": 81,
   "id": "28a583c7",
   "metadata": {
    "pycharm": {
     "name": "#%%\n"
    }
   },
   "outputs": [
    {
     "name": "stdout",
     "output_type": "stream",
     "text": [
      "\n",
      "---------------------------------\n",
      "sampler=['sampler=ADPM2Extractor']\n",
      "\n",
      "SI-SNR 1:  0.6253742575645447\n",
      "SI-SNR 2:  1.4158798456192017\n",
      "SI-SNRi 1:  0.7901111543178558\n",
      "SI-SNRi 2:  1.0547235906124115\n",
      "SDR mean:  1.8196426630020142\n",
      "SDR mixture cons: 2.5656189918518066\n",
      "\n",
      "---------------------------------\n",
      "sampler=['sampler=ADPM2Separator']\n",
      "\n",
      "SI-SNR 1:  0.8745163679122925\n",
      "SI-SNR 2:  1.3886007070541382\n",
      "SI-SNRi 1:  1.0392532646656036\n",
      "SI-SNRi 2:  1.027444452047348\n",
      "SDR mean:  1.505374550819397\n",
      "SDR mixture cons: 1.5054229497909546\n"
     ]
    }
   ],
   "source": [
    "for path in Path(\"../logs/experiments_results/\").glob(\"sampler=ADPM2*/\"):\n",
    "    print(\"\\n---------------------------------\")\n",
    "    sampler = path.name.split(\"-\")\n",
    "    print(f\"sampler={sampler}\\n\")\n",
    "    _, seps, oris = evaluate_data(path)\n",
    "    cons_seps = []\n",
    "    for i, (sep, ori) in enumerate(zip(seps, oris)):\n",
    "        mixture = ori.sum(dim=0, keepdims=True)\n",
    "        sepa1, sepa2 = enforce_mixture_consistency(mixture, sep.unsqueeze(0))\n",
    "        sepa = torch.stack([sepa1, sepa2], dim=1)\n",
    "        cons_seps.append(sepa)\n",
    "    cons_seps = torch.stack(cons_seps).squeeze(1)\n",
    "    print(f\"SDR mixture cons: {sdr(cons_seps, oris)}\")"
   ]
  },
  {
   "cell_type": "markdown",
   "id": "0542946e",
   "metadata": {
    "jp-MarkdownHeadingCollapsed": true,
    "pycharm": {
     "name": "#%% md\n"
    },
    "tags": []
   },
   "source": [
    "# Compute data statistics"
   ]
  },
  {
   "cell_type": "code",
   "execution_count": null,
   "id": "2527f8d8",
   "metadata": {
    "pycharm": {
     "name": "#%%\n"
    }
   },
   "outputs": [],
   "source": [
    "from audio_data_pytorch import WAVDataset\n",
    "import numpy as np\n",
    "import pandas as pd\n",
    "from tqdm.notebook import tqdm \n",
    "from audio_data_pytorch.transforms import Loudness\n",
    "\n",
    "dataset = WAVDataset(\"/data/MusDB/data/drums/train\")\n",
    "\n",
    "fn = lambda x:x #Loudness(44100, -20)\n",
    "wavs_norms = pd.Series([np.linalg.norm(fn(wav)) for wav in tqdm(dataset)])"
   ]
  },
  {
   "cell_type": "code",
   "execution_count": null,
   "id": "7199eaf1",
   "metadata": {
    "pycharm": {
     "name": "#%%\n"
    }
   },
   "outputs": [],
   "source": [
    "wav_norm_normalized = wavs_norms / wavs_norms.mean()\n",
    "print(wav_norm_normalized.describe())\n",
    "wav_norm_normalized.hist(bins=30)"
   ]
  },
  {
   "cell_type": "code",
   "execution_count": null,
   "id": "45d6d539",
   "metadata": {
    "pycharm": {
     "name": "#%%\n"
    }
   },
   "outputs": [],
   "source": [
    "wavs_stds = pd.Series([wav.std().item() for wav in tqdm(dataset)])\n",
    "wavs_stds.describe()"
   ]
  },
  {
   "cell_type": "code",
   "execution_count": null,
   "id": "6b228fba",
   "metadata": {
    "pycharm": {
     "name": "#%%\n"
    }
   },
   "outputs": [],
   "source": [
    "wav = dataset[0]#,int(1e6):int(1e6)+ 50].numpy()\n",
    "wav_diff = np.diff(np.diff(wav))\n",
    "plt.plot(wav)\n",
    "plt.plot(wav_diff/np.linalg.norm(wav_diff)*np.linalg.norm(wav))\n",
    "si_snr(wav[:-2], torch.from_numpy(wav_diff))"
   ]
  },
  {
   "cell_type": "code",
   "execution_count": null,
   "id": "32112f74",
   "metadata": {
    "pycharm": {
     "name": "#%%\n"
    }
   },
   "outputs": [],
   "source": [
    "from main.dataset import ChunkedWAVDataset \n",
    "from audio_data_pytorch import AllTransform\n",
    "dataset_val = ChunkedWAVDataset(\n",
    "    path=\"/data/MusDB/data/drums/test\", \n",
    "    max_chunk_size=22050,\n",
    "    recursive=True,\n",
    "    transforms=AllTransform(source_rate=44100, target_rate=44100, mono=True),\n",
    ")"
   ]
  },
  {
   "cell_type": "code",
   "execution_count": null,
   "id": "8ab1e9dd",
   "metadata": {
    "pycharm": {
     "name": "#%%\n"
    }
   },
   "outputs": [],
   "source": [
    "import scipy\n",
    "conv1d = scipy.signal.fftconvolve\n",
    "norm = np.linalg.norm\n",
    "\n",
    "\n",
    "def compute_cossim(wav:np.ndarray, chunk:np.ndarray):\n",
    "    chunk_size = chunk.shape[-1]\n",
    "    chunk_norm = np.linalg.norm(chunk)\n",
    "    dot_wav = conv1d(wav, np.flip(chunk), mode=\"same\")\n",
    "    wav_norm = np.sqrt(conv1d(wav**2, np.ones_like(chunk), mode=\"same\"))\n",
    "    wav_norm[np.isnan(wav_norm)] = 0.0\n",
    "    \n",
    "    cossim = np.zeros_like(dot_wav)\n",
    "    mask = wav_norm != 0\n",
    "    cossim[mask] = dot_wav[mask] / (wav_norm[mask] * chunk_norm)\n",
    "    return cossim\n",
    "\n",
    "chunk = dataset_val[0][0].numpy()\n",
    "plt.plot(chunk)\n",
    "plt.show()\n",
    "\n",
    "cossims = []\n",
    "for wav in tqdm(dataset):\n",
    "    wav = wav[0].numpy()\n",
    "    cossim = compute_cossim(wav, chunk)\n",
    "    i = cossim.argmax()\n",
    "    cossims.append( (i, cossim[i]) )\n",
    "    \n",
    "\n",
    "#wav = dataset[1][0].numpy()\n",
    "#chunk = dataset_val[100][0].numpy()\n",
    "\n",
    "def compute_cossim(wav:np.ndarray, chunk:np.ndarray):\n",
    "    chunk_size = chunk.shape[-1]\n",
    "    chunk_norm = np.linalg.norm(chunk)\n",
    "    dot_wav = conv1d(wav, np.flip(chunk), mode=\"same\")\n",
    "    wav_norm = np.sqrt(conv1d(wav**2, np.ones_like(chunk), mode=\"same\"))\n",
    "    wav_norm[np.isnan(wav_norm)] = 0.0\n",
    "    \n",
    "    cossim = np.zeros_like(dot_wav)\n",
    "    mask = wav_norm != 0\n",
    "    cossim[mask] = dot_wav[mask] / (wav_norm[mask] * chunk_norm)\n",
    "    return cossim"
   ]
  },
  {
   "cell_type": "code",
   "execution_count": null,
   "id": "225fe9da",
   "metadata": {
    "pycharm": {
     "name": "#%%\n"
    }
   },
   "outputs": [],
   "source": [
    "a,b = zip(*cossims)\n",
    "chunk_size = chunk.shape[-1]\n",
    "wav_idx, chunk_idx, val = max(zip(range(len(a)),a,b),key=lambda x:x[-1])\n",
    "\n",
    "wav_chunk = dataset[wav_idx][0,chunk_idx-chunk_size//2:chunk_idx+chunk_size//2]\n",
    "\n",
    "print(wav_idx, chunk_idx, val)\n",
    "\n",
    "plt.plot(chunk/norm(chunk))\n",
    "plt.plot(wav_chunk/norm(wav_chunk))\n",
    "display(Audio(wav_chunk, rate=44100))\n",
    "\n",
    "np.dot(wav_chunk, chunk)/(norm(wav_chunk)*norm(chunk))"
   ]
  },
  {
   "cell_type": "code",
   "execution_count": null,
   "id": "00cf6ccb",
   "metadata": {
    "jp-MarkdownHeadingCollapsed": true,
    "pycharm": {
     "name": "#%%\n"
    },
    "tags": []
   },
   "outputs": [],
   "source": [
    "i= 1000001\n",
    "chunk_slice = slice(i-chunk_size//2,i+chunk_size//2)\n",
    "print(wav_norm[i], np.linalg.norm(wav[chunk_slice]))\n",
    "print(np.dot(wav[chunk_slice], chunk), dot_wav[i])"
   ]
  },
  {
   "cell_type": "code",
   "execution_count": null,
   "id": "2712496c",
   "metadata": {
    "pycharm": {
     "name": "#%%\n"
    }
   },
   "outputs": [],
   "source": [
    "display(Audio(chunk, rate=44100))\n",
    "plt.plot(cossim)"
   ]
  },
  {
   "cell_type": "code",
   "execution_count": null,
   "id": "2fefaf65",
   "metadata": {
    "pycharm": {
     "name": "#%%\n"
    }
   },
   "outputs": [],
   "source": [
    "i = (cossim>0.1).nonzero()[0][1000]#cossim.argmax()\n",
    "print(i,\":\",cossim[i])\n",
    "\n",
    "plt.plot(chunk/chunk_norm)\n",
    "wav_chunk = wav[i-chunk_size//2:i+chunk_size//2]\n",
    "plt.plot(wav_chunk/wav_norm[i])\n",
    "print(wav.shape)\n",
    "display(Audio(wav_chunk, rate=44100))\n",
    "\n",
    "print(dot_wav[i])\n",
    "np.dot(wav_chunk, chunk)/(norm(wav_chunk)*norm(chunk))"
   ]
  },
  {
   "cell_type": "code",
   "execution_count": null,
   "id": "b3766a2f",
   "metadata": {
    "pycharm": {
     "name": "#%%\n"
    }
   },
   "outputs": [],
   "source": [
    "interpol = np.arange(chunk_size)/chunk_size\n",
    "display(Audio(wav_chunk*interpol + (1-interpol)*chunk, rate=44100))\n",
    "print(interpol)"
   ]
  },
  {
   "cell_type": "code",
   "execution_count": null,
   "id": "2b14c722",
   "metadata": {},
   "outputs": [],
   "source": []
  },
  {
   "cell_type": "markdown",
   "id": "bcd79d20",
   "metadata": {},
   "source": [
    "### FAD"
   ]
  },
  {
   "cell_type": "code",
   "execution_count": 4,
   "id": "b85177ee",
   "metadata": {},
   "outputs": [
    {
     "name": "stderr",
     "output_type": "stream",
     "text": [
      "Using cache found in /home/irene/.cache/torch/hub/harritaylor_torchvggish_master\n"
     ]
    },
    {
     "name": "stdout",
     "output_type": "stream",
     "text": [
      "[Frechet Audio Distance] exception thrown, Error opening '/home/irene/Documents/audio-diffusion-pytorch-trainer/data/dummy/gt/Track01876.wav': Format not recognised.\n"
     ]
    }
   ],
   "source": [
    "from frechet_audio_distance import FrechetAudioDistance\n",
    "from pathlib import Path\n",
    "ROOT_PATH = Path(\"..\").resolve().absolute()\n",
    "\n",
    "\n",
    "frechet = FrechetAudioDistance(\n",
    "    use_pca=False, \n",
    "    use_activation=False,\n",
    "    verbose=False\n",
    ")\n",
    "fad_score = frechet.score(ROOT_PATH / \"data/dummy/gt\", ROOT_PATH / \"data/dummy/generated\")"
   ]
  },
  {
   "cell_type": "code",
   "execution_count": 8,
   "id": "20a61ed2",
   "metadata": {},
   "outputs": [],
   "source": [
    "import torchaudio\n",
    "from IPython.display import Audio\n",
    "import math\n",
    "\n",
    "sampling_rate = 22050\n",
    "ROOT_PATH = Path(\"..\").resolve().absolute()\n",
    "\n",
    "s1, sr1 = torchaudio.load(ROOT_PATH / 'data/Slack/test/drums/Track01876.wav')\n",
    "s2, sr2 = torchaudio.load(ROOT_PATH / 'data/Slack/test/piano/Track01876.wav')\n",
    "s3, sr3 = torchaudio.load(ROOT_PATH / 'data/Slack/test/drums/Track01876.wav')\n",
    "s4, sr4 = torchaudio.load(ROOT_PATH / 'data/Slack/test/piano/Track01876.wav')\n",
    "\n",
    "s1 = torchaudio.functional.resample(s1, orig_freq=sr1, new_freq=sampling_rate)\n",
    "s2 = torchaudio.functional.resample(s2, orig_freq=sr1, new_freq=sampling_rate)\n",
    "s3 = torchaudio.functional.resample(s3, orig_freq=sr1, new_freq=sampling_rate)\n",
    "s4 = torchaudio.functional.resample(s4, orig_freq=sr1, new_freq=sampling_rate)\n",
    "\n",
    "start_sample = 100 * sampling_rate\n",
    "length = 10\n",
    "length_samples = 2**math.ceil(math.log2(length * sampling_rate))\n",
    "s1 = s1.reshape(1, 1, -1)[:, :, start_sample:start_sample + length_samples]\n",
    "s2 = s2.reshape(1, 1, -1)[:, :, start_sample:start_sample + length_samples]\n",
    "s3 = s3.reshape(1, 1, -1)[:, :, start_sample:start_sample + length_samples]\n",
    "s4 = s4.reshape(1, 1, -1)[:, :, start_sample:start_sample + length_samples]\n",
    "\n",
    "m = s1 + s2 + s3 + s4\n",
    "\n"
   ]
  },
  {
   "cell_type": "code",
   "execution_count": 9,
   "id": "8d62a2ee",
   "metadata": {},
   "outputs": [],
   "source": [
    "import torch\n",
    "torch.save(m, ROOT_PATH / \"data/dummy/gt/Track01876.wav\")"
   ]
  },
  {
   "cell_type": "code",
   "execution_count": null,
   "id": "bb19a5aa",
   "metadata": {},
   "outputs": [],
   "source": [
    "def append_dims(x, target_dims):\n",
    "    \"\"\"Appends dimensions to the end of a tensor until it has target_dims dimensions.\"\"\"\n",
    "    dims_to_append = target_dims - x.ndim\n",
    "    if dims_to_append < 0:\n",
    "        raise ValueError(f'input has {x.ndim} dims but target_dims is {target_dims}, which is less')\n",
    "    return x[(...,) + (None,) * dims_to_append]\n",
    "\n",
    "def to_d(x, sigma, denoised):\n",
    "    \"\"\"Converts a denoiser output to a Karras ODE derivative.\"\"\"\n",
    "    return (x - denoised) / append_dims(sigma, x.ndim)\n",
    "\n",
    "@torch.no_grad()\n",
    "def log_likelihood(model, x, sigma_min, sigma_max, extra_args=None, atol=1e-4, rtol=1e-4):\n",
    "    extra_args = {} if extra_args is None else extra_args\n",
    "    s_in = x.new_ones([x.shape[0]])\n",
    "    v = torch.randint_like(x, 2) * 2 - 1\n",
    "    fevals = 0\n",
    "    def ode_fn(sigma, x):\n",
    "        nonlocal fevals\n",
    "        with torch.enable_grad():\n",
    "            x = x[0].detach().requires_grad_()\n",
    "            denoised = model(x, sigma * s_in, **extra_args)\n",
    "            d = to_d(x, sigma, denoised)\n",
    "            fevals += 1\n",
    "            grad = torch.autograd.grad((d * v).sum(), x)[0]\n",
    "            d_ll = (v * grad).flatten(1).sum(1)\n",
    "        return d.detach(), d_ll\n",
    "    x_min = x, x.new_zeros([x.shape[0]])\n",
    "    t = x.new_tensor([sigma_min, sigma_max])\n",
    "    sol = odeint(ode_fn, x_min, t, atol=atol, rtol=rtol, method='dopri5')\n",
    "    latent, delta_ll = sol[0][-1], sol[1][-1]\n",
    "    ll_prior = torch.distributions.Normal(0, sigma_max).log_prob(latent).flatten(1).sum(1)\n",
    "    return ll_prior + delta_ll, {'fevals': fevals}"
   ]
  }
 ],
 "metadata": {
  "kernelspec": {
   "display_name": "Python (audio-diffusion-trainer)",
   "language": "python",
   "name": "audio-diffusion-trainer"
  },
  "language_info": {
   "codemirror_mode": {
    "name": "ipython",
    "version": 3
   },
   "file_extension": ".py",
   "mimetype": "text/x-python",
   "name": "python",
   "nbconvert_exporter": "python",
   "pygments_lexer": "ipython3",
   "version": "3.9.13"
  }
 },
 "nbformat": 4,
 "nbformat_minor": 5
}
