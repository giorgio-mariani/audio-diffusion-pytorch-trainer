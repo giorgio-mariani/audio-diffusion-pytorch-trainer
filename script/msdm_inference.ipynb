{
 "cells": [
  {
   "cell_type": "code",
   "execution_count": 8,
   "outputs": [
    {
     "name": "stdout",
     "output_type": "stream",
     "text": [
      "/home/emilian/DataspellProjects/audio-diffusion-pytorch-trainer\n"
     ]
    }
   ],
   "source": [
    "# cd .."
   ],
   "metadata": {
    "collapsed": false
   }
  },
  {
   "cell_type": "code",
   "execution_count": 9,
   "outputs": [],
   "source": [
    "from audio_diffusion_pytorch import AudioDiffusionModel\n",
    "import torch\n",
    "from ipywidgets import widgets\n",
    "from audio_diffusion_pytorch import KarrasSchedule, AEulerSampler\n",
    "from main import utils\n",
    "import numpy as np\n",
    "import torchaudio\n",
    "from IPython.display import Audio, HTML, display\n",
    "import math"
   ],
   "metadata": {
    "collapsed": false
   }
  },
  {
   "cell_type": "code",
   "execution_count": 10,
   "outputs": [
    {
     "name": "stderr",
     "output_type": "stream",
     "text": [
      "/tmp/ipykernel_341372/2248803464.py:2: UserWarning: \n",
      "The version_base parameter is not specified.\n",
      "Please specify a compatability version level, or None.\n",
      "Will assume defaults for version 1.1\n",
      "  hydra.initialize(config_path=\"..\", job_name=\"test_app\")\n"
     ]
    },
    {
     "data": {
      "text/plain": "hydra.initialize()"
     },
     "execution_count": 10,
     "metadata": {},
     "output_type": "execute_result"
    }
   ],
   "source": [
    "import hydra\n",
    "hydra.initialize(config_path=\"..\", job_name=\"test_app\")"
   ],
   "metadata": {
    "collapsed": false
   }
  },
  {
   "cell_type": "markdown",
   "source": [
    "## Initialize model"
   ],
   "metadata": {
    "collapsed": false
   }
  },
  {
   "cell_type": "code",
   "execution_count": 11,
   "outputs": [],
   "source": [
    "device = 'cuda'\n",
    "cfg = hydra.compose(config_name=\"config\", overrides=[\"exp=base_slakh_supervised_unconditional_2stem\"])\n",
    "model = hydra.utils.instantiate(cfg.model)\n",
    "ckpt = torch.load('logs/ckpts/drums_piano_slakh/epoch=606-valid_loss=0.017.ckpt', map_location=device)\n",
    "model.load_state_dict(ckpt['state_dict'])\n",
    "model : AudioDiffusionModel = model.model.to(device)"
   ],
   "metadata": {
    "collapsed": false
   }
  },
  {
   "cell_type": "markdown",
   "source": [
    "## Forward Inference"
   ],
   "metadata": {
    "collapsed": false
   }
  },
  {
   "cell_type": "markdown",
   "source": [
    "#### Total generation"
   ],
   "metadata": {
    "collapsed": false
   }
  },
  {
   "cell_type": "code",
   "execution_count": 24,
   "outputs": [],
   "source": [
    "sampling_rate = 22050\n",
    "length = 6\n",
    "length_samples = 2**math.ceil(math.log2(length * sampling_rate))\n",
    "num_samples = 2\n",
    "num_steps = 100\n",
    "num_stems = len(cfg.stems)\n",
    "\n",
    "noise = torch.randn(num_samples, num_stems, length_samples).to(device)\n",
    "samples = model.sample(noise=noise, num_steps=num_steps)\n",
    "\n",
    "res = {}\n",
    "for i, stem in enumerate(cfg.stems):\n",
    "    res[stem] = samples[:, i, :].detach().cpu()\n",
    "res['mix'] = samples.sum(dim=1).detach().cpu()\n",
    "\n",
    "for i in range(num_samples):\n",
    "    audio_widgets = []\n",
    "    for stem in cfg.stems:\n",
    "        out = widgets.Output()\n",
    "        with out:\n",
    "            display(f'Sample {i} - Stem {stem}')\n",
    "            display(Audio(res[stem][i, :], rate = sampling_rate))\n",
    "        audio_widgets.append(out)\n",
    "    out = widgets.Output()\n",
    "    with out:\n",
    "            display(f'Sample {i} - Mixture')\n",
    "            display(Audio(res['mix'][i, :], rate = sampling_rate))\n",
    "    audio_widgets.append(out)\n",
    "    display(widgets.HBox(audio_widgets))"
   ],
   "metadata": {
    "collapsed": false
   }
  },
  {
   "cell_type": "markdown",
   "source": [
    "#### Partial generation"
   ],
   "metadata": {
    "collapsed": false
   }
  },
  {
   "cell_type": "code",
   "execution_count": null,
   "outputs": [],
   "source": [],
   "metadata": {
    "collapsed": false
   }
  }
 ],
 "metadata": {
  "kernelspec": {
   "display_name": "Python 3",
   "language": "python",
   "name": "python3"
  },
  "language_info": {
   "codemirror_mode": {
    "name": "ipython",
    "version": 2
   },
   "file_extension": ".py",
   "mimetype": "text/x-python",
   "name": "python",
   "nbconvert_exporter": "python",
   "pygments_lexer": "ipython2",
   "version": "2.7.6"
  }
 },
 "nbformat": 4,
 "nbformat_minor": 0
}
