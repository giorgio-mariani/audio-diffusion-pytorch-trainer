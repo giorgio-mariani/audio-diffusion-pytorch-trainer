{
 "cells": [
  {
   "cell_type": "code",
   "execution_count": 13,
   "id": "e553a71b-dde3-46fa-b08a-88042291a9b7",
   "metadata": {},
   "outputs": [
    {
     "name": "stdout",
     "output_type": "stream",
     "text": [
      "The autoreload extension is already loaded. To reload it, use:\n",
      "  %reload_ext autoreload\n"
     ]
    }
   ],
   "source": [
    "import sys\n",
    "from pathlib import Path\n",
    "import torch\n",
    "\n",
    "ROOT_PATH=Path(\"..\").resolve().absolute()\n",
    "DEVICE=torch.device(\"cpu\")\n",
    "sys.path.append(str(ROOT_PATH))\n",
    "\n",
    "%load_ext autoreload\n",
    "%autoreload 2\n",
    "from evaluation.evaluate_separation import evaluate_tracks_chunks_simplified"
   ]
  },
  {
   "cell_type": "code",
   "execution_count": null,
   "id": "a3e3035a",
   "metadata": {},
   "outputs": [],
   "source": [
    "!pwd"
   ]
  },
  {
   "cell_type": "code",
   "execution_count": 14,
   "id": "e6b42d1a-020a-42be-8344-c4d1d81bc6b3",
   "metadata": {},
   "outputs": [
    {
     "name": "stderr",
     "output_type": "stream",
     "text": [
      "1009it [00:11, 85.50it/s]"
     ]
    },
    {
     "name": "stdout",
     "output_type": "stream",
     "text": [
      "set()\n"
     ]
    },
    {
     "name": "stderr",
     "output_type": "stream",
     "text": [
      "3140it [01:53, 27.60it/s]\n"
     ]
    },
    {
     "data": {
      "text/plain": [
       "1    15.600772\n",
       "2    16.930175\n",
       "3    16.525742\n",
       "4    13.971500\n",
       "dtype: float64"
      ]
     },
     "execution_count": 14,
     "metadata": {},
     "output_type": "execute_result"
    }
   ],
   "source": [
    "results = evaluate_tracks_chunks_simplified(Path(\"/home/irene/Documents/audio-diffusion-pytorch-trainer/separations/complete_context_slakh_4stems_resamples\"), \n",
    "                                                orig_sr=22050, eps=1e-8,\n",
    "                                                compute_likelihood=False)"
   ]
  },
  {
   "cell_type": "code",
   "execution_count": 16,
   "id": "bdd55d79-42d2-4ba5-a454-76e6a38e1bfe",
   "metadata": {},
   "outputs": [
    {
     "data": {
      "text/html": [
       "<div>\n",
       "<style scoped>\n",
       "    .dataframe tbody tr th:only-of-type {\n",
       "        vertical-align: middle;\n",
       "    }\n",
       "\n",
       "    .dataframe tbody tr th {\n",
       "        vertical-align: top;\n",
       "    }\n",
       "\n",
       "    .dataframe thead th {\n",
       "        text-align: right;\n",
       "    }\n",
       "</style>\n",
       "<table border=\"1\" class=\"dataframe\">\n",
       "  <thead>\n",
       "    <tr style=\"text-align: right;\">\n",
       "      <th></th>\n",
       "      <th>1</th>\n",
       "      <th>2</th>\n",
       "      <th>3</th>\n",
       "      <th>4</th>\n",
       "    </tr>\n",
       "  </thead>\n",
       "  <tbody>\n",
       "    <tr>\n",
       "      <th>0</th>\n",
       "      <td>20.414639</td>\n",
       "      <td>23.992584</td>\n",
       "      <td>50.781300</td>\n",
       "      <td>18.528038</td>\n",
       "    </tr>\n",
       "    <tr>\n",
       "      <th>1</th>\n",
       "      <td>25.069036</td>\n",
       "      <td>27.335058</td>\n",
       "      <td>40.029137</td>\n",
       "      <td>22.979305</td>\n",
       "    </tr>\n",
       "    <tr>\n",
       "      <th>2</th>\n",
       "      <td>23.697376</td>\n",
       "      <td>27.729813</td>\n",
       "      <td>41.224686</td>\n",
       "      <td>24.840891</td>\n",
       "    </tr>\n",
       "    <tr>\n",
       "      <th>3</th>\n",
       "      <td>17.207308</td>\n",
       "      <td>26.189274</td>\n",
       "      <td>41.255264</td>\n",
       "      <td>20.025192</td>\n",
       "    </tr>\n",
       "    <tr>\n",
       "      <th>4</th>\n",
       "      <td>15.193639</td>\n",
       "      <td>24.048454</td>\n",
       "      <td>18.454071</td>\n",
       "      <td>13.510019</td>\n",
       "    </tr>\n",
       "    <tr>\n",
       "      <th>...</th>\n",
       "      <td>...</td>\n",
       "      <td>...</td>\n",
       "      <td>...</td>\n",
       "      <td>...</td>\n",
       "    </tr>\n",
       "    <tr>\n",
       "      <th>15463</th>\n",
       "      <td>26.268805</td>\n",
       "      <td>21.950933</td>\n",
       "      <td>40.784618</td>\n",
       "      <td>38.366982</td>\n",
       "    </tr>\n",
       "    <tr>\n",
       "      <th>15464</th>\n",
       "      <td>28.547485</td>\n",
       "      <td>21.126476</td>\n",
       "      <td>40.957554</td>\n",
       "      <td>38.461723</td>\n",
       "    </tr>\n",
       "    <tr>\n",
       "      <th>15465</th>\n",
       "      <td>29.054516</td>\n",
       "      <td>18.115562</td>\n",
       "      <td>40.237221</td>\n",
       "      <td>37.908806</td>\n",
       "    </tr>\n",
       "    <tr>\n",
       "      <th>15466</th>\n",
       "      <td>30.138922</td>\n",
       "      <td>16.412724</td>\n",
       "      <td>40.304409</td>\n",
       "      <td>37.851566</td>\n",
       "    </tr>\n",
       "    <tr>\n",
       "      <th>15467</th>\n",
       "      <td>27.863714</td>\n",
       "      <td>7.039705</td>\n",
       "      <td>40.289131</td>\n",
       "      <td>37.646778</td>\n",
       "    </tr>\n",
       "  </tbody>\n",
       "</table>\n",
       "<p>15468 rows × 4 columns</p>\n",
       "</div>"
      ],
      "text/plain": [
       "               1          2          3          4\n",
       "0      20.414639  23.992584  50.781300  18.528038\n",
       "1      25.069036  27.335058  40.029137  22.979305\n",
       "2      23.697376  27.729813  41.224686  24.840891\n",
       "3      17.207308  26.189274  41.255264  20.025192\n",
       "4      15.193639  24.048454  18.454071  13.510019\n",
       "...          ...        ...        ...        ...\n",
       "15463  26.268805  21.950933  40.784618  38.366982\n",
       "15464  28.547485  21.126476  40.957554  38.461723\n",
       "15465  29.054516  18.115562  40.237221  37.908806\n",
       "15466  30.138922  16.412724  40.304409  37.851566\n",
       "15467  27.863714   7.039705  40.289131  37.646778\n",
       "\n",
       "[15468 rows x 4 columns]"
      ]
     },
     "execution_count": 16,
     "metadata": {},
     "output_type": "execute_result"
    }
   ],
   "source": [
    "results"
   ]
  }
 ],
 "metadata": {
  "kernelspec": {
   "display_name": "Python (audio-diffusion-trainer)",
   "language": "python",
   "name": "audio-diffusion-trainer"
  },
  "language_info": {
   "codemirror_mode": {
    "name": "ipython",
    "version": 3
   },
   "file_extension": ".py",
   "mimetype": "text/x-python",
   "name": "python",
   "nbconvert_exporter": "python",
   "pygments_lexer": "ipython3",
   "version": "3.9.13"
  }
 },
 "nbformat": 4,
 "nbformat_minor": 5
}
